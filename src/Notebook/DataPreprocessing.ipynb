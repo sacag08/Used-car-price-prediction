{
 "cells": [
  {
   "cell_type": "markdown",
   "metadata": {},
   "source": [
    "## ML Project : Used car price predition"
   ]
  },
  {
   "cell_type": "markdown",
   "metadata": {},
   "source": [
    "#### Life cycle of Machine learning Project\n",
    "\n",
    "- Understanding the Problem Statement\n",
    "- Data Collection\n",
    "- Data Checks to perform\n",
    "- Exploratory data analysis\n",
    "- Data Pre-Processing\n",
    "- Model Training\n",
    "- Choose best model"
   ]
  },
  {
   "cell_type": "markdown",
   "metadata": {},
   "source": [
    "#### 1. Objective\n",
    "The objective of this project is to predict the price of used cars based on various attributes.\n",
    "\n",
    "#### 2. Data Collection\n",
    "- The Data scuorce : https://www.kaggle.com/competitions/playground-series-s4e9/data\n",
    "- The data consist of 13 columns and 188533 rows"
   ]
  },
  {
   "cell_type": "markdown",
   "metadata": {},
   "source": [
    "#### 2.1 Import data and required libraries\n",
    "Import pandas,numpy,seaboen,matplotlib"
   ]
  },
  {
   "cell_type": "code",
   "execution_count": null,
   "metadata": {},
   "outputs": [
    {
     "ename": "",
     "evalue": "",
     "output_type": "error",
     "traceback": [
      "\u001b[1;31mThe kernel failed to start as a dll could not be loaded.\n",
      "\u001b[1;31mClick <a href='https://aka.ms/kernelFailuresDllLoad'>here</a> for more info."
     ]
    }
   ],
   "source": [
    "import pandas as pd\n",
    "import numpy as np\n",
    "import seaborn as sns\n",
    "import matplotlib.pyplot as plt\n",
    "\n",
    "from sklearn.preprocessing import LabelEncoder,OneHotEncoder,StandardScaler,MinMaxScaler,MaxAbsScaler\n",
    "from sklearn.impute import SimpleImputer\n",
    "from sklearn.model_selection import train_test_split\n",
    "from sklearn.pipeline import Pipeline\n",
    "from sklearn.compose import ColumnTransformer\n",
    "import re"
   ]
  },
  {
   "cell_type": "markdown",
   "metadata": {},
   "source": [
    "Import data and store it in csv format"
   ]
  },
  {
   "cell_type": "code",
   "execution_count": 126,
   "metadata": {},
   "outputs": [],
   "source": [
    "train = pd.read_csv('./data/train.csv')\n",
    "test = pd.read_csv('./data/test.csv')\n"
   ]
  },
  {
   "cell_type": "markdown",
   "metadata": {},
   "source": [
    "Show top 5 rows"
   ]
  },
  {
   "cell_type": "code",
   "execution_count": null,
   "metadata": {},
   "outputs": [],
   "source": [
    "train.head()"
   ]
  },
  {
   "cell_type": "markdown",
   "metadata": {},
   "source": [
    "Get shape of the dataframe"
   ]
  },
  {
   "cell_type": "code",
   "execution_count": null,
   "metadata": {},
   "outputs": [],
   "source": [
    "train.shape"
   ]
  },
  {
   "cell_type": "code",
   "execution_count": null,
   "metadata": {},
   "outputs": [],
   "source": [
    "train.isnull().sum()"
   ]
  },
  {
   "cell_type": "code",
   "execution_count": null,
   "metadata": {},
   "outputs": [],
   "source": [
    "train.duplicated().sum()"
   ]
  },
  {
   "cell_type": "code",
   "execution_count": null,
   "metadata": {},
   "outputs": [],
   "source": [
    "train.info()"
   ]
  },
  {
   "cell_type": "code",
   "execution_count": null,
   "metadata": {},
   "outputs": [],
   "source": [
    "train.nunique()"
   ]
  },
  {
   "cell_type": "code",
   "execution_count": null,
   "metadata": {},
   "outputs": [],
   "source": [
    "train.describe()\n"
   ]
  },
  {
   "cell_type": "code",
   "execution_count": null,
   "metadata": {},
   "outputs": [],
   "source": [
    "column = train.columns\n",
    "numeric_features = [feature for feature in train.columns if train[feature].dtype != 'O']\n",
    "categorical_features = [feature for feature in train.columns if train[feature].dtype == 'O']\n",
    "\n",
    "print('Numeric columns in dataframe : {}'.format(numeric_features))\n",
    "print('Categorical columns in dataframe : {}'.format(categorical_features))"
   ]
  },
  {
   "cell_type": "code",
   "execution_count": null,
   "metadata": {},
   "outputs": [],
   "source": [
    "for col in categorical_features:\n",
    "    print('Total number of unique values in {} are {}:'.format(col,train[col].nunique()))\n",
    "    print(train[col].unique(),'\\n')"
   ]
  },
  {
   "cell_type": "code",
   "execution_count": null,
   "metadata": {},
   "outputs": [],
   "source": [
    "for i in train['fuel_type'].unique():\n",
    "    print('Number of samples of {} in dataset are {} and some exaples are the following are \\n {}'.format(i,len(train[train['fuel_type'] == i]),train[train['fuel_type'] == i]))"
   ]
  },
  {
   "cell_type": "code",
   "execution_count": null,
   "metadata": {},
   "outputs": [],
   "source": [
    "train.isnull().sum()"
   ]
  },
  {
   "cell_type": "code",
   "execution_count": 138,
   "metadata": {},
   "outputs": [],
   "source": [
    "most_common = dict()\n",
    "for i in categorical_features:\n",
    "    value = str(train[i].value_counts()[:1].index.values[0])\n",
    "    most_common[i] = value"
   ]
  },
  {
   "cell_type": "code",
   "execution_count": 139,
   "metadata": {},
   "outputs": [],
   "source": [
    "def extract(df):\n",
    "    df['transmission'] = df['transmission'].str.lower()\n",
    "    df['transmission_type'] = df['transmission'].apply(lambda x:\n",
    "        'manual' if 'm/t' in x or 'manual' in x or 'mt' in x else \n",
    "        'automatic' if 'a/t' in x or 'automatic' in x else\n",
    "        'CVT' if 'CVT' in x else\n",
    "        'dual' if 'dual' in x else 'other'\n",
    "    )\n",
    "    df['hoursepower'] = df['engine'].str.extract(r'(\\d+\\.\\d+)(?=HP)').astype(float)\n",
    "    df['capacity'] = df['engine'].str.extract(r'(\\d+\\.\\d+)(?=L| Liter)').astype(float)\n",
    "    df['Cylinder'] = df['engine'].apply(lambda x: x if pd.isnull(x)\n",
    "                                    else float(re.search('(\\d)\\s(Cylinder)',x).group(1)) if re.search('(\\d)\\s(Cylinder)',x)\n",
    "                                    else float(re.search('\\s(V)(\\d)', x ).group(2)) if re.search('\\s(V)(\\d)', x) else np.nan)\n",
    "    #df['Cylinder'] = df[['engine','Cylinder']].apply(lambda x: pd.Series(x[0]).str.extract(r'\\s(V)(\\d)')[1].astype(float) if pd.isnull(x[1]) else x[1],axis=1)\n",
    "    \n",
    "    return df"
   ]
  },
  {
   "cell_type": "code",
   "execution_count": 140,
   "metadata": {},
   "outputs": [],
   "source": [
    "extracted_train = extract(train)\n",
    "extracted_test = extract(test)"
   ]
  },
  {
   "cell_type": "code",
   "execution_count": null,
   "metadata": {},
   "outputs": [],
   "source": [
    "extracted_train"
   ]
  },
  {
   "cell_type": "code",
   "execution_count": null,
   "metadata": {},
   "outputs": [],
   "source": [
    "train['int_col'].value_counts()"
   ]
  },
  {
   "cell_type": "code",
   "execution_count": null,
   "metadata": {},
   "outputs": [],
   "source": [
    "train['brand'].value_counts()"
   ]
  },
  {
   "cell_type": "code",
   "execution_count": 144,
   "metadata": {},
   "outputs": [],
   "source": [
    "model_sample = extracted_train['model'].value_counts()\n",
    "low_models_samples = list(model_sample[model_sample.values < 101].index)"
   ]
  },
  {
   "cell_type": "code",
   "execution_count": 168,
   "metadata": {},
   "outputs": [],
   "source": [
    "def fill_fuel_type(x):\n",
    "    if pd.isnull(x[1]):\n",
    "        if 'gasoline' in str.lower(x[0]):\n",
    "            return 'Gasoline'\n",
    "        elif 'flex' in str.lower(x[0]):\n",
    "            return 'E85 Flex Fuel'\n",
    "        elif (('plug-in'in str.lower(x[0])) or ('electric/gas' in str.lower(x[0]))):\n",
    "            return 'Plug-In Hybrid'\n",
    "        elif 'hybrid' in str.lower(x[0]):\n",
    "            return 'Hybrid'\n",
    "        elif 'electric' in str.lower(x[0]):\n",
    "            return 'electric'\n",
    "        else:\n",
    "            return np.nan \n",
    "    else:\n",
    "        return x[1]\n",
    "    \n",
    "    \n",
    "def fill_missing_value(df):\n",
    "    df['fuel_type'] = df[['engine','fuel_type']].apply(lambda x : fill_fuel_type(x),axis=1)\n",
    "    df['fuel_type'].fillna('Gasoline',inplace=True)\n",
    "    df['accident'].fillna('None reported',inplace=True)\n",
    "    df['clean_title'].fillna('Yes' if 'None reported' in df['accident'] else 'No',inplace=True)\n",
    "    for i in categorical_features:\n",
    "        df[i] = df[i].replace('–',most_common[i])\n",
    "    common_color = ['black', 'white', 'gray', 'silver', 'brown', 'red', 'blue', 'green',\n",
    "        'beige', 'tan', 'orange', 'gold', 'yellow', 'purple', 'pink', \n",
    "        'charcoal', 'ivory', 'camel', 'chestnut', 'pearl', 'linen', 'graphite',\n",
    "        'copper', 'slate', 'bronze', 'sand', 'amber','macchiato','ebony','cocoa']\n",
    "    df['int_col'] = df['int_col'].apply(lambda x: x if [color for color in common_color if color in str.lower(x).split(' ')] == [] else [color for color in common_color if color in str.lower(x).split(' ')][0])\n",
    "    df['ext_col'] = df['ext_col'].apply(lambda x: x if [color for color in common_color if color in str.lower(x).split(' ')] == [] else [color for color in common_color if color in str.lower(x).split(' ')][0])\n",
    "\n",
    "\n",
    "    df['interior_rare_color'] = df['int_col'].apply(lambda x: 1 if str.lower(x) not in common_color else 0)\n",
    "    df['exterior_rare_color'] = df['ext_col'].apply(lambda x: 1 if str.lower(x) not in common_color else 0)\n",
    "    \n",
    "    luxury_brands = [\"Mercedes-Benz\", \"BMW\", \"Audi\", \"Porsche\", \"Land Rover\",\"Land\"\n",
    "    \"Lexus\", \"Cadillac\", \"Tesla\", \"INFINITI\", \"Jaguar\", \n",
    "    \"Bentley\", \"Maserati\", \"Lamborghini\", \"Genesis\", \"Rolls-Royce\", \n",
    "    \"Ferrari\", \"McLaren\", \"Aston Martin\", \"Lucid\", \"Lotus\", \n",
    "    \"Karma\", \"Bugatti\", \"Maybach\"]\n",
    "    df['is_luxry_brand'] = df['brand'].apply(lambda x: 1 if x in luxury_brands else 0)\n",
    "    df['age'] = df['model_year'].apply(lambda x: int(2025 - x))\n",
    "    df['mile/year'] = df['milage']/df['age']\n",
    "    df['cleaned_model'] = df['model'].apply(lambda x: x if x not in low_models_samples else 'others')\n",
    "    df.drop(['i','brand','engine','model_year','transmission'],axis=1,inplace=True)\n",
    "    return df"
   ]
  },
  {
   "cell_type": "code",
   "execution_count": null,
   "metadata": {},
   "outputs": [],
   "source": [
    "common_color = ['black', 'white', 'gray', 'silver', 'brown', 'red', 'blue', 'green',\n",
    "        'beige', 'tan', 'orange', 'gold', 'yellow', 'purple', 'pink', \n",
    "        'charcoal', 'ivory', 'camel', 'chestnut', 'pearl', 'linen', 'graphite',\n",
    "        'copper', 'slate', 'bronze', 'sand', 'amber','macchiato','ebony','cocoa']\n",
    "pd.Series('Metalic Black').apply(lambda x: x.astype('str') if [color for color in common_color if color in str.lower(x).split(' ')] == [] else [color for color in common_color if color in str.lower(x).split(' ')][0])"
   ]
  },
  {
   "cell_type": "code",
   "execution_count": null,
   "metadata": {},
   "outputs": [],
   "source": []
  },
  {
   "cell_type": "code",
   "execution_count": 156,
   "metadata": {},
   "outputs": [],
   "source": [
    "extract_train = extracted_train.copy()\n",
    "extract_test = extracted_test.copy()\n",
    "cleaned_train_data = fill_missing_value(extract_train)\n",
    "cleaned_test_data = fill_missing_value(extract_test)\n"
   ]
  },
  {
   "cell_type": "code",
   "execution_count": null,
   "metadata": {},
   "outputs": [],
   "source": [
    "cleaned_test_data.isnull().sum()"
   ]
  },
  {
   "cell_type": "code",
   "execution_count": null,
   "metadata": {},
   "outputs": [],
   "source": [
    "sns.kdeplot(x = 'age',data=cleaned_train_data)"
   ]
  },
  {
   "cell_type": "code",
   "execution_count": null,
   "metadata": {},
   "outputs": [],
   "source": [
    "sns.scatterplot(x = 'mile/year',y='price',data= cleaned_train_data)"
   ]
  },
  {
   "cell_type": "code",
   "execution_count": null,
   "metadata": {},
   "outputs": [],
   "source": [
    "sns.histplot(cleaned_train_data['price'])"
   ]
  },
  {
   "cell_type": "code",
   "execution_count": null,
   "metadata": {},
   "outputs": [],
   "source": []
  },
  {
   "cell_type": "code",
   "execution_count": null,
   "metadata": {},
   "outputs": [],
   "source": [
    "plt.figure(figsize=(20,10))\n",
    "sns.boxplot(data = cleaned_train_data, x='brand',y='price',order=cleaned_train_data.groupby('brand')['price'].mean().sort_values(ascending=False).index)\n",
    "plt.xticks(rotation= 90)\n"
   ]
  },
  {
   "cell_type": "code",
   "execution_count": null,
   "metadata": {},
   "outputs": [],
   "source": [
    "plt.figure(figsize=(20,10))\n",
    "sns.boxplot(data = cleaned_train_data, x='transmission',y='price',order=cleaned_train_data.groupby('transmission')['price'].mean().sort_values(ascending=False).index)\n",
    "plt.xticks(rotation= 90)"
   ]
  },
  {
   "cell_type": "code",
   "execution_count": null,
   "metadata": {},
   "outputs": [],
   "source": [
    "cleaned_train_data.columns"
   ]
  },
  {
   "cell_type": "code",
   "execution_count": null,
   "metadata": {},
   "outputs": [],
   "source": [
    "sns.heatmap(cleaned_train_data[['age','milage', 'hoursepower','capacity','Cylinder','price']].corr())"
   ]
  },
  {
   "cell_type": "code",
   "execution_count": null,
   "metadata": {},
   "outputs": [],
   "source": [
    "sns.histplot(cleaned_train_data['price'\n",
    "])"
   ]
  },
  {
   "cell_type": "code",
   "execution_count": null,
   "metadata": {},
   "outputs": [],
   "source": [
    "cleaned_train_data.info()"
   ]
  },
  {
   "cell_type": "code",
   "execution_count": null,
   "metadata": {},
   "outputs": [],
   "source": [
    "cleaned_train_data = cleaned_train_data[cleaned_train_data['price']<300000]\n",
    "cleaned_train_data.info()"
   ]
  },
  {
   "cell_type": "code",
   "execution_count": 173,
   "metadata": {},
   "outputs": [],
   "source": [
    "X = cleaned_train_data.drop('price',axis=1)\n",
    "y = cleaned_train_data['price']"
   ]
  },
  {
   "cell_type": "code",
   "execution_count": 174,
   "metadata": {},
   "outputs": [],
   "source": [
    "xtrain,xcom,ytrain,ycom  =  train_test_split(X,y,test_size=0.3,random_state=32)\n",
    "xtest,xval,ytest,yval = train_test_split(xcom,ycom,test_size=0.3,random_state=32)"
   ]
  },
  {
   "cell_type": "code",
   "execution_count": null,
   "metadata": {},
   "outputs": [],
   "source": [
    "cleaned_train_data.info()"
   ]
  },
  {
   "cell_type": "code",
   "execution_count": null,
   "metadata": {},
   "outputs": [],
   "source": [
    "cleaned_train_data.columns"
   ]
  },
  {
   "cell_type": "code",
   "execution_count": 158,
   "metadata": {},
   "outputs": [],
   "source": [
    "numeric_features = ['milage','hoursepower', 'capacity',\n",
    "       'Cylinder', 'interior_rare_color', 'exterior_rare_color',\n",
    "       'is_luxry_brand', 'age', 'mile/year']\n",
    "categorical_features = ['cleaned_model','fuel_type','transmission_type','accident','clean_title','int_col','ext_col','model']"
   ]
  },
  {
   "cell_type": "code",
   "execution_count": null,
   "metadata": {},
   "outputs": [],
   "source": [
    "xtrain"
   ]
  },
  {
   "cell_type": "code",
   "execution_count": null,
   "metadata": {},
   "outputs": [],
   "source": [
    "numeric_features_pipeline = Pipeline(\n",
    "    [   \n",
    "        ('fillna',SimpleImputer(strategy='median')),\n",
    "        ('Scale',MaxAbsScaler())\n",
    "    ]\n",
    ")\n",
    "\n",
    "categorical_features_pipeline = Pipeline(\n",
    "    [\n",
    "        ('ohe',OneHotEncoder(drop='first',handle_unknown='ignore',sparse_output=True)),\n",
    "        ('sclae',MaxAbsScaler())\n",
    "    ]\n",
    ")\n",
    "\n",
    "transformer = ColumnTransformer(\n",
    "    [\n",
    "        ('numerical',numeric_features_pipeline,numeric_features),\n",
    "        ('categorical',categorical_features_pipeline,categorical_features)\n",
    "    ]\n",
    ")\n",
    "\n",
    "xtrain_transfromed_array = transformer.fit_transform(xtrain).toarray()\n",
    "xtest_transfromed_array = transformer.transform(xtest).toarray()\n",
    "xval_transformed_array = transformer.transform(xval).toarray()"
   ]
  },
  {
   "cell_type": "code",
   "execution_count": 176,
   "metadata": {},
   "outputs": [],
   "source": [
    "pd.DataFrame(xtrain_transfromed_array).to_pickle('xtrain_transfromed.csv')\n",
    "pd.DataFrame(xtest_transfromed_array).to_pickle('xtest_transfromed.csv')\n",
    "pd.DataFrame(xval_transformed_array).to_pickle('xtval_transfromed.csv')"
   ]
  },
  {
   "cell_type": "code",
   "execution_count": 177,
   "metadata": {},
   "outputs": [],
   "source": [
    "pd.DataFrame(ytrain).to_pickle('ytrain.pkl')\n",
    "pd.DataFrame(ytest).to_pickle('ytest.pkl')\n",
    "pd.DataFrame(yval).to_pickle('yval.pkl')"
   ]
  },
  {
   "cell_type": "code",
   "execution_count": null,
   "metadata": {},
   "outputs": [],
   "source": [
    "pd.DataFrame(transformer.transform(X).toarray()).to_pickle('X.csv')\n",
    "pd.DataFrame(transformer.transform(cleaned_test_data).toarray()).to_pickle('clean_test.csv')\n"
   ]
  },
  {
   "cell_type": "code",
   "execution_count": 179,
   "metadata": {},
   "outputs": [],
   "source": [
    "pd.DataFrame(y).to_pickle('y.csv')"
   ]
  }
 ],
 "metadata": {
  "kernelspec": {
   "display_name": "Python 3",
   "language": "python",
   "name": "python3"
  },
  "language_info": {
   "codemirror_mode": {
    "name": "ipython",
    "version": 3
   },
   "file_extension": ".py",
   "mimetype": "text/x-python",
   "name": "python",
   "nbconvert_exporter": "python",
   "pygments_lexer": "ipython3",
   "version": "3.11.8"
  }
 },
 "nbformat": 4,
 "nbformat_minor": 2
}
