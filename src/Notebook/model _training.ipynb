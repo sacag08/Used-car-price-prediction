{
 "cells": [
  {
   "cell_type": "code",
   "execution_count": 1,
   "metadata": {},
   "outputs": [
    {
     "name": "stderr",
     "output_type": "stream",
     "text": [
      "c:\\Projects\\Used Car Price prediction\\venv1\\Lib\\site-packages\\tqdm\\auto.py:21: TqdmWarning: IProgress not found. Please update jupyter and ipywidgets. See https://ipywidgets.readthedocs.io/en/stable/user_install.html\n",
      "  from .autonotebook import tqdm as notebook_tqdm\n"
     ]
    }
   ],
   "source": [
    "import pandas as pd\n",
    "import numpy as np\n",
    "\n",
    "from sklearn.model_selection import train_test_split,KFold\n",
    "from sklearn.linear_model import LinearRegression,Lasso,Ridge\n",
    "from sklearn.tree import DecisionTreeRegressor\n",
    "from sklearn.neighbors import KNeighborsRegressor\n",
    "from sklearn.ensemble import AdaBoostRegressor,RandomForestRegressor,VotingRegressor\n",
    "from xgboost import XGBRegressor\n",
    "from catboost import CatBoostRegressor\n",
    "from lightgbm import LGBMRegressor\n",
    "from sklearn.metrics import mean_squared_error,r2_score\n",
    "import sklearn\n",
    "import xgboost as xgb\n",
    "import lightgbm as lgb\n",
    "import optuna"
   ]
  },
  {
   "cell_type": "code",
   "execution_count": 2,
   "metadata": {},
   "outputs": [],
   "source": [
    "xtrain_transformed = pd.read_pickle('xtrain_transfromed.csv')\n",
    "#xtest_transformed = pd.read_pickle('xtest_transfromed.csv')\n",
    "xval_transformed = pd.read_pickle('xtval_transfromed.csv')\n",
    "ytrain = pd.read_pickle('ytrain.pkl')\n",
    "#ytest = pd.read_pickle('ytest.pkl')\n",
    "yval = pd.read_pickle('yval.pkl')\n"
   ]
  },
  {
   "cell_type": "code",
   "execution_count": 17,
   "metadata": {},
   "outputs": [],
   "source": [
    "X = pd.read_pickle('X.csv')\n",
    "test = pd.read_pickle('clean_test.csv')\n",
    "y = pd.read_pickle('y.csv')"
   ]
  },
  {
   "cell_type": "code",
   "execution_count": 22,
   "metadata": {},
   "outputs": [],
   "source": [
    "old_test = pd.read_csv('C:/Projects/Used Car Price prediction/src/Notebook/data/test.csv')"
   ]
  },
  {
   "cell_type": "code",
   "execution_count": null,
   "metadata": {},
   "outputs": [],
   "source": []
  },
  {
   "cell_type": "code",
   "execution_count": 5,
   "metadata": {},
   "outputs": [],
   "source": [
    "\n",
    "\n",
    "# models = {\n",
    "#     # 'linear_regression':LinearRegression(),\n",
    "#     # 'lasso_regression' :Lasso(),\n",
    "#     # 'Ridge_regression' :Ridge(),\n",
    "#     # 'KMeans' = KNeighborsRegressor(),\n",
    "#     # 'adaboost_regressor' = AdaBoostRegressor(\n",
    "#     #     DecisionTreeRegressor( max_depth=2,\n",
    "#     #                                                 random_state=0,\n",
    "#     #                                                 ),\n",
    "#         # n_estimators=30),\n",
    "#     #'RandomForestRegressor'=RandomForestRegressor(max_depth =4,min_samples_split=50000,max_samples=0.7,max_features=0.9),\n",
    "#     #'XGBRegressor' = XGBRegressor(max_depth = 5, subsample = 0.7,min_samples_split=50000),\n",
    "#     #'CatBoostRegressor' = CatBoostRegressor(depth =5),\n",
    "#     'LightGBM' : LGBMRegressor()\n",
    "#     }\n",
    "# train_r2_score = []\n",
    "# test_r2_score = []\n",
    "# model_name = []\n",
    "# trained_models = []\n",
    "# for model in list(models):\n",
    "#     trained_model = models[model].fit(xtrain_transformed,ytrain)\n",
    "#     trained_models.append(trained_models)\n",
    "#     print('model trained for {}'.format(model))\n",
    "#     model_name.append(model)\n",
    "#     train_model_prediction = trained_model.predict(xtrain_transformed)\n",
    "#     val_model_prediction = trained_model.predict(xval_transformed)\n",
    "#     model_train_r2_score,model_train_mean_squared_error = r2_score(ytrain,train_model_prediction),mean_squared_error(ytrain,train_model_prediction)\n",
    "#     model_test_r2_score,model_test_mean_squared_error = r2_score(yval,val_model_prediction),mean_squared_error(yval,val_model_prediction)\n",
    "#     test_r2_score.append(model_test_r2_score)\n",
    "#     train_r2_score.append(model_train_r2_score)\n",
    "\n",
    "    \n",
    "#     print(\"Train and test Scores for {} is {} and {} \".format(model,train_r2_score,test_r2_score))\n",
    "\n",
    "# scores = pd.DataFrame({'model': model_name,'train_score':train_r2_score,'test_score':test_r2_score})\n",
    "# scores"
   ]
  },
  {
   "cell_type": "code",
   "execution_count": null,
   "metadata": {},
   "outputs": [],
   "source": []
  },
  {
   "cell_type": "code",
   "execution_count": 6,
   "metadata": {},
   "outputs": [],
   "source": [
    "\n",
    "# from sklearn.metrics import mean_squared_error\n",
    "# \n",
    "\n",
    "# def objective(trial):\n",
    "#     # Suggest hyperparameters for tuning, compatible with GPU training\n",
    "#     params = {\n",
    "#         'n_estimators': trial.suggest_int('n_estimators', 800, 1500),\n",
    "#         'num_leaves': trial.suggest_int('num_leaves', 75, 200),\n",
    "#         'max_depth': trial.suggest_int('max_depth', 12, 30),\n",
    "#         'cat_smooth': trial.suggest_int('cat_smooth', 20, 120),\n",
    "#         'learning_rate': trial.suggest_loguniform('learning_rate', 1e-3, 0.02),\n",
    "#         'subsample': trial.suggest_uniform('subsample', 0.5, 1.0),\n",
    "#         'colsample_bytree': trial.suggest_uniform('colsample_bytree', 0.4, 0.8),\n",
    "#         'min_split_gain': trial.suggest_loguniform('min_split_gain', 1e-4, 1.0),\n",
    "#         'min_child_weight': trial.suggest_int('min_child_weight', 5, 70),\n",
    "#         'lambda_l2': trial.suggest_loguniform('lambda_l2', 1e-10, 1e-3),\n",
    "#         'lambda_l1': trial.suggest_loguniform('lambda_l1', 1e-10, 1e-2),\n",
    "#         #'scale_pos_weight': trial.suggest_uniform('scale_pos_weight', 1.0, 12.0),\n",
    "#         'max_bin': trial.suggest_int('max_bin', 200, 1000),\n",
    "#         }\n",
    "    \n",
    "#     # Create LightGBM datasets\n",
    "#     dtrain = lgb.Dataset(xtrain_transformed, label=ytrain)\n",
    "#     dvalid = lgb.Dataset(xval_transformed, label=yval, reference=dtrain)\n",
    "    \n",
    "#     # Train the model\n",
    "#     model = lgb.train(params, dtrain, valid_sets=[dvalid], \n",
    "#                       callbacks=[lgb.early_stopping(stopping_rounds=3), lgb.log_evaluation(50)])\n",
    "    \n",
    "#     # Predict on the validation set\n",
    "#     y_pred_valid = model.predict(xval_transformed)\n",
    "    \n",
    "#     # Calculate RMSE on the validation set\n",
    "#     rmse = mean_squared_error(yval, y_pred_valid, squared=False)\n",
    "    \n",
    "#     return rmse\n"
   ]
  },
  {
   "cell_type": "markdown",
   "metadata": {},
   "source": [
    "\n",
    "model\ttrain_score\ttest_score\n",
    "0\tXGBRegressor\t0.433767\t0.091740\n",
    "1\tCatBoostRegressor\t0.462148\t0.095820\n",
    "2\tLightGBM\t0.237562\t0.117104"
   ]
  },
  {
   "cell_type": "code",
   "execution_count": 7,
   "metadata": {},
   "outputs": [],
   "source": [
    "# study = optuna.create_study(direction='minimize')\n",
    "# study.optimize(objective, n_trials=100)\n",
    "\n",
    "# # Get the best hyperparameters\n",
    "# best_params = study.best_params\n",
    "# print(f\"Best hyperparameters: {best_params}\")"
   ]
  },
  {
   "cell_type": "markdown",
   "metadata": {},
   "source": [
    "MOdel1: With no anaomalies removal : Best hyperparameters: {'n_estimators': 1453, 'num_leaves': 106, 'max_depth': 29, 'cat_smooth': 55, 'learning_rate': 0.007993434953780486, 'subsample': 0.689250820410972, 'colsample_bytree': 0.47709405636899965, 'min_split_gain': 0.018077274947858688, 'min_child_weight': 65, 'lambda_l2': 2.1063221751116856e-09, 'lambda_l1': 4.07382572387886e-10, 'max_bin': 342}"
   ]
  },
  {
   "cell_type": "code",
   "execution_count": 32,
   "metadata": {},
   "outputs": [
    {
     "name": "stderr",
     "output_type": "stream",
     "text": [
      "c:\\Projects\\Used Car Price prediction\\venv1\\lib\\site-packages\\lightgbm\\engine.py:204: UserWarning: Found `n_estimators` in params. Will use it instead of argument\n",
      "  _log_warning(f\"Found `{alias}` in params. Will use it instead of argument\")\n"
     ]
    },
    {
     "name": "stdout",
     "output_type": "stream",
     "text": [
      "[LightGBM] [Info] Auto-choosing row-wise multi-threading, the overhead of testing was 0.197567 seconds.\n",
      "You can set `force_row_wise=true` to remove the overhead.\n",
      "And if memory is not enough, you can set `force_col_wise=true`.\n",
      "[LightGBM] [Info] Total Bins 5240\n",
      "[LightGBM] [Info] Number of data points in the train set: 188181, number of used features: 2103\n",
      "[LightGBM] [Info] Start training from score 41534.308713\n",
      "[LightGBM] [Warning] No further splits with positive gain, best gain: -inf\n",
      "[LightGBM] [Warning] No further splits with positive gain, best gain: -inf\n",
      "[LightGBM] [Warning] No further splits with positive gain, best gain: -inf\n",
      "[LightGBM] [Warning] No further splits with positive gain, best gain: -inf\n",
      "[LightGBM] [Warning] No further splits with positive gain, best gain: -inf\n",
      "[LightGBM] [Warning] No further splits with positive gain, best gain: -inf\n",
      "[LightGBM] [Warning] No further splits with positive gain, best gain: -inf\n",
      "[LightGBM] [Warning] No further splits with positive gain, best gain: -inf\n",
      "[LightGBM] [Warning] No further splits with positive gain, best gain: -inf\n",
      "[LightGBM] [Warning] No further splits with positive gain, best gain: -inf\n",
      "[LightGBM] [Warning] No further splits with positive gain, best gain: -inf\n",
      "[LightGBM] [Warning] No further splits with positive gain, best gain: -inf\n",
      "[LightGBM] [Warning] No further splits with positive gain, best gain: -inf\n",
      "[LightGBM] [Warning] No further splits with positive gain, best gain: -inf\n",
      "[LightGBM] [Warning] No further splits with positive gain, best gain: -inf\n",
      "[LightGBM] [Warning] No further splits with positive gain, best gain: -inf\n",
      "[LightGBM] [Warning] No further splits with positive gain, best gain: -inf\n",
      "[LightGBM] [Warning] No further splits with positive gain, best gain: -inf\n",
      "[LightGBM] [Warning] No further splits with positive gain, best gain: -inf\n",
      "[LightGBM] [Warning] No further splits with positive gain, best gain: -inf\n",
      "[LightGBM] [Warning] No further splits with positive gain, best gain: -inf\n",
      "[LightGBM] [Warning] No further splits with positive gain, best gain: -inf\n",
      "[LightGBM] [Warning] No further splits with positive gain, best gain: -inf\n",
      "[LightGBM] [Warning] No further splits with positive gain, best gain: -inf\n",
      "[LightGBM] [Warning] No further splits with positive gain, best gain: -inf\n",
      "[LightGBM] [Warning] No further splits with positive gain, best gain: -inf\n",
      "[LightGBM] [Warning] No further splits with positive gain, best gain: -inf\n",
      "[LightGBM] [Warning] No further splits with positive gain, best gain: -inf\n",
      "[LightGBM] [Warning] No further splits with positive gain, best gain: -inf\n",
      "[LightGBM] [Warning] No further splits with positive gain, best gain: -inf\n",
      "[LightGBM] [Warning] No further splits with positive gain, best gain: -inf\n",
      "[LightGBM] [Warning] No further splits with positive gain, best gain: -inf\n",
      "[LightGBM] [Warning] No further splits with positive gain, best gain: -inf\n",
      "[LightGBM] [Warning] No further splits with positive gain, best gain: -inf\n",
      "[LightGBM] [Warning] No further splits with positive gain, best gain: -inf\n",
      "[LightGBM] [Warning] No further splits with positive gain, best gain: -inf\n",
      "[LightGBM] [Warning] No further splits with positive gain, best gain: -inf\n",
      "[LightGBM] [Warning] No further splits with positive gain, best gain: -inf\n",
      "[LightGBM] [Warning] No further splits with positive gain, best gain: -inf\n",
      "[LightGBM] [Warning] No further splits with positive gain, best gain: -inf\n",
      "[LightGBM] [Warning] No further splits with positive gain, best gain: -inf\n",
      "[LightGBM] [Warning] No further splits with positive gain, best gain: -inf\n",
      "[LightGBM] [Warning] No further splits with positive gain, best gain: -inf\n",
      "[LightGBM] [Warning] No further splits with positive gain, best gain: -inf\n",
      "[LightGBM] [Warning] No further splits with positive gain, best gain: -inf\n",
      "[LightGBM] [Warning] No further splits with positive gain, best gain: -inf\n",
      "[LightGBM] [Warning] No further splits with positive gain, best gain: -inf\n",
      "[LightGBM] [Warning] No further splits with positive gain, best gain: -inf\n",
      "[LightGBM] [Warning] No further splits with positive gain, best gain: -inf\n",
      "[LightGBM] [Warning] No further splits with positive gain, best gain: -inf\n",
      "[LightGBM] [Warning] No further splits with positive gain, best gain: -inf\n",
      "[LightGBM] [Warning] No further splits with positive gain, best gain: -inf\n",
      "[LightGBM] [Warning] No further splits with positive gain, best gain: -inf\n",
      "[LightGBM] [Warning] No further splits with positive gain, best gain: -inf\n",
      "[LightGBM] [Warning] No further splits with positive gain, best gain: -inf\n",
      "[LightGBM] [Warning] No further splits with positive gain, best gain: -inf\n",
      "[LightGBM] [Warning] No further splits with positive gain, best gain: -inf\n",
      "[LightGBM] [Warning] No further splits with positive gain, best gain: -inf\n",
      "[LightGBM] [Warning] No further splits with positive gain, best gain: -inf\n",
      "[LightGBM] [Warning] No further splits with positive gain, best gain: -inf\n",
      "[LightGBM] [Warning] No further splits with positive gain, best gain: -inf\n",
      "[LightGBM] [Warning] No further splits with positive gain, best gain: -inf\n",
      "[LightGBM] [Warning] No further splits with positive gain, best gain: -inf\n",
      "[LightGBM] [Warning] No further splits with positive gain, best gain: -inf\n",
      "[LightGBM] [Warning] No further splits with positive gain, best gain: -inf\n",
      "[LightGBM] [Warning] No further splits with positive gain, best gain: -inf\n",
      "[LightGBM] [Warning] No further splits with positive gain, best gain: -inf\n",
      "[LightGBM] [Warning] No further splits with positive gain, best gain: -inf\n",
      "[LightGBM] [Warning] No further splits with positive gain, best gain: -inf\n",
      "[LightGBM] [Warning] No further splits with positive gain, best gain: -inf\n",
      "[LightGBM] [Warning] No further splits with positive gain, best gain: -inf\n",
      "[LightGBM] [Warning] No further splits with positive gain, best gain: -inf\n",
      "[LightGBM] [Warning] No further splits with positive gain, best gain: -inf\n",
      "[LightGBM] [Warning] No further splits with positive gain, best gain: -inf\n",
      "[LightGBM] [Warning] No further splits with positive gain, best gain: -inf\n",
      "[LightGBM] [Warning] No further splits with positive gain, best gain: -inf\n",
      "[LightGBM] [Warning] No further splits with positive gain, best gain: -inf\n",
      "[LightGBM] [Warning] No further splits with positive gain, best gain: -inf\n",
      "[LightGBM] [Warning] No further splits with positive gain, best gain: -inf\n",
      "[LightGBM] [Warning] No further splits with positive gain, best gain: -inf\n",
      "[LightGBM] [Warning] No further splits with positive gain, best gain: -inf\n",
      "[LightGBM] [Warning] No further splits with positive gain, best gain: -inf\n",
      "[LightGBM] [Warning] No further splits with positive gain, best gain: -inf\n",
      "[LightGBM] [Warning] No further splits with positive gain, best gain: -inf\n",
      "[LightGBM] [Warning] No further splits with positive gain, best gain: -inf\n",
      "[LightGBM] [Warning] No further splits with positive gain, best gain: -inf\n",
      "[LightGBM] [Warning] No further splits with positive gain, best gain: -inf\n",
      "[LightGBM] [Warning] No further splits with positive gain, best gain: -inf\n",
      "[LightGBM] [Warning] No further splits with positive gain, best gain: -inf\n",
      "[LightGBM] [Warning] No further splits with positive gain, best gain: -inf\n",
      "[LightGBM] [Warning] No further splits with positive gain, best gain: -inf\n",
      "[LightGBM] [Warning] No further splits with positive gain, best gain: -inf\n",
      "[LightGBM] [Warning] No further splits with positive gain, best gain: -inf\n",
      "[LightGBM] [Warning] No further splits with positive gain, best gain: -inf\n",
      "[LightGBM] [Warning] No further splits with positive gain, best gain: -inf\n",
      "[LightGBM] [Warning] No further splits with positive gain, best gain: -inf\n",
      "[LightGBM] [Warning] No further splits with positive gain, best gain: -inf\n",
      "[LightGBM] [Warning] No further splits with positive gain, best gain: -inf\n",
      "[LightGBM] [Warning] No further splits with positive gain, best gain: -inf\n",
      "[LightGBM] [Warning] No further splits with positive gain, best gain: -inf\n",
      "[LightGBM] [Warning] No further splits with positive gain, best gain: -inf\n",
      "[LightGBM] [Warning] No further splits with positive gain, best gain: -inf\n",
      "[LightGBM] [Warning] No further splits with positive gain, best gain: -inf\n",
      "[LightGBM] [Warning] No further splits with positive gain, best gain: -inf\n",
      "[LightGBM] [Warning] No further splits with positive gain, best gain: -inf\n",
      "[LightGBM] [Warning] No further splits with positive gain, best gain: -inf\n",
      "[LightGBM] [Warning] No further splits with positive gain, best gain: -inf\n",
      "[LightGBM] [Warning] No further splits with positive gain, best gain: -inf\n",
      "[LightGBM] [Warning] No further splits with positive gain, best gain: -inf\n",
      "[LightGBM] [Warning] No further splits with positive gain, best gain: -inf\n",
      "[LightGBM] [Warning] No further splits with positive gain, best gain: -inf\n",
      "[LightGBM] [Warning] No further splits with positive gain, best gain: -inf\n",
      "[LightGBM] [Warning] No further splits with positive gain, best gain: -inf\n",
      "[LightGBM] [Warning] No further splits with positive gain, best gain: -inf\n",
      "[LightGBM] [Warning] No further splits with positive gain, best gain: -inf\n",
      "[LightGBM] [Warning] No further splits with positive gain, best gain: -inf\n",
      "[LightGBM] [Warning] No further splits with positive gain, best gain: -inf\n",
      "[LightGBM] [Warning] No further splits with positive gain, best gain: -inf\n",
      "[LightGBM] [Warning] No further splits with positive gain, best gain: -inf\n",
      "[LightGBM] [Warning] No further splits with positive gain, best gain: -inf\n",
      "[LightGBM] [Warning] No further splits with positive gain, best gain: -inf\n",
      "[LightGBM] [Warning] No further splits with positive gain, best gain: -inf\n",
      "[LightGBM] [Warning] No further splits with positive gain, best gain: -inf\n",
      "[LightGBM] [Warning] No further splits with positive gain, best gain: -inf\n",
      "[LightGBM] [Warning] No further splits with positive gain, best gain: -inf\n",
      "[LightGBM] [Warning] No further splits with positive gain, best gain: -inf\n",
      "[LightGBM] [Warning] No further splits with positive gain, best gain: -inf\n",
      "[LightGBM] [Warning] No further splits with positive gain, best gain: -inf\n",
      "[LightGBM] [Warning] No further splits with positive gain, best gain: -inf\n",
      "[LightGBM] [Warning] No further splits with positive gain, best gain: -inf\n",
      "[LightGBM] [Warning] No further splits with positive gain, best gain: -inf\n",
      "[LightGBM] [Warning] No further splits with positive gain, best gain: -inf\n",
      "[LightGBM] [Warning] No further splits with positive gain, best gain: -inf\n",
      "[LightGBM] [Warning] No further splits with positive gain, best gain: -inf\n",
      "[LightGBM] [Warning] No further splits with positive gain, best gain: -inf\n",
      "[LightGBM] [Warning] No further splits with positive gain, best gain: -inf\n"
     ]
    }
   ],
   "source": [
    "best_params = {'n_estimators': 1453, 'num_leaves': 106, 'max_depth': 29, 'cat_smooth': 55, 'learning_rate': 0.007993434953780486, 'subsample': 0.689250820410972, 'colsample_bytree': 0.47709405636899965, 'min_split_gain': 0.018077274947858688, 'min_child_weight': 65, 'lambda_l2': 2.1063221751116856e-09, 'lambda_l1': 4.07382572387886e-10, 'max_bin': 342}\n",
    "best_params['objective'] = 'regression'\n",
    "best_params['metric'] = 'rmse'\n",
    "# best_params['device'] = 'gpu'  # Use GPU if available\n",
    "\n",
    "dtrain = lgb.Dataset(X, label=y)\n",
    "\n",
    "model = lgb.train(best_params, dtrain, num_boost_round=1500)\n",
    "\n"
   ]
  },
  {
   "cell_type": "code",
   "execution_count": 33,
   "metadata": {},
   "outputs": [],
   "source": [
    "import pickle\n",
    "file_name = \"lgb-reg.pkl\"\n",
    "\n",
    "# save\n",
    "pickle.dump(model, open(file_name, \"wb\"))\n",
    "\n",
    "# load\n",
    "lgb_model_loaded = pickle.load(open(file_name, \"rb\"))"
   ]
  },
  {
   "cell_type": "code",
   "execution_count": null,
   "metadata": {},
   "outputs": [],
   "source": []
  },
  {
   "cell_type": "code",
   "execution_count": 35,
   "metadata": {},
   "outputs": [
    {
     "name": "stdout",
     "output_type": "stream",
     "text": [
      "Submission file created: submission_lgbm3.csv\n"
     ]
    }
   ],
   "source": [
    "pred = model.predict(test)\n",
    "\n",
    "submission_df = pd.DataFrame({\n",
    "    'id': old_test['id'],\n",
    "    'class': pred\n",
    "})\n",
    "\n",
    "submission_df.to_csv('submission_lgbm3.csv', index=False)\n",
    "print(\"Submission file created: submission_lgbm3.csv\")\n"
   ]
  },
  {
   "cell_type": "code",
   "execution_count": null,
   "metadata": {},
   "outputs": [],
   "source": []
  },
  {
   "cell_type": "code",
   "execution_count": null,
   "metadata": {},
   "outputs": [],
   "source": []
  },
  {
   "cell_type": "code",
   "execution_count": null,
   "metadata": {},
   "outputs": [],
   "source": []
  },
  {
   "cell_type": "code",
   "execution_count": 10,
   "metadata": {},
   "outputs": [],
   "source": [
    "# from sklearn.metrics import mean_squared_error\n",
    "# import optuna\n",
    "\n",
    "# def objective(trial):\n",
    "#     param = {}\n",
    "#     param['learning_rate'] = trial.suggest_loguniform('learning_rate', 1e-3, 0.02)\n",
    "#     param['depth'] = trial.suggest_int('depth', 6, 15)\n",
    "#     param['l2_leaf_reg'] = trial.suggest_discrete_uniform('l2_leaf_reg', 1.0, 5.5, 0.5)\n",
    "#     param['min_child_samples'] = trial.suggest_categorical('min_child_samples', [1, 4, 8, 16, 32])\n",
    "#     param['grow_policy'] = 'Depthwise'\n",
    "#     param['iterations'] = 100\n",
    "#     param['use_best_model'] = True\n",
    "#     param['eval_metric'] = 'RMSE'\n",
    "#     param['od_type'] = 'iter'\n",
    "#     param['od_wait'] = 20\n",
    "#     param['random_state'] = 101\n",
    "    \n",
    "#     regressor = XGBRegressor(**param)\n",
    "\n",
    "#     regressor.fit(xtrain_transformed.copy(), ytrain.copy(),\n",
    "#                   eval_set=[(xval_transformed.copy(), yval.copy())],\n",
    "#                   early_stopping_rounds=3)\n",
    "#     loss = mean_squared_error(yval, regressor.predict(xval_transformed.copy()))\n",
    "#     return loss\n",
    "# study = optuna.create_study(study_name=f'XGB-seed{101}',direction='minimize')\n",
    "# study.optimize(objective, n_trials=100, n_jobs=-1, timeout=3600,callbacks=[XGBRegressor.early_stopping(stopping_rounds=3), XGBRegressor.log_evaluation(50)])"
   ]
  },
  {
   "cell_type": "code",
   "execution_count": 11,
   "metadata": {},
   "outputs": [],
   "source": [
    "def objective(x,y,trial):\n",
    "    dtrain = xgb.DMatrix(xtrain_transformed, label=ytrain)\n",
    "    dtest = xgb.DMatrix(xval_transformed, label=yval)\n",
    "\n",
    "    param = {\n",
    "        \"silent\": 1,\n",
    "        \"objective\": \"reg:squarederror\",\n",
    "        \"eval_metric\": \"rmse\",\n",
    "        \"booster\": trial.suggest_categorical(\"booster\", [\"gbtree\", \"gblinear\", \"dart\"]),\n",
    "        \"lambda\": trial.suggest_loguniform(\"lambda\", 1e-8, 1.0),\n",
    "        \"alpha\": trial.suggest_loguniform(\"alpha\", 1e-8, 1.0),\n",
    "    }\n",
    "\n",
    "    if param[\"booster\"] == \"gbtree\" or param[\"booster\"] == \"dart\":\n",
    "        param[\"max_depth\"] = trial.suggest_int(\"max_depth\", 1, 9)\n",
    "        param[\"eta\"] = trial.suggest_loguniform(\"eta\", 1e-8, 1.0)\n",
    "        param[\"gamma\"] = trial.suggest_loguniform(\"gamma\", 1e-8, 1.0)\n",
    "        param[\"grow_policy\"] = trial.suggest_categorical(\"grow_policy\", [\"depthwise\", \"lossguide\"])\n",
    "    if param[\"booster\"] == \"dart\":\n",
    "        param[\"sample_type\"] = trial.suggest_categorical(\"sample_type\", [\"uniform\", \"weighted\"])\n",
    "        param[\"normalize_type\"] = trial.suggest_categorical(\"normalize_type\", [\"tree\", \"forest\"])\n",
    "        param[\"rate_drop\"] = trial.suggest_loguniform(\"rate_drop\", 1e-8, 1.0)\n",
    "        param[\"skip_drop\"] = trial.suggest_loguniform(\"skip_drop\", 1e-8, 1.0)\n",
    "\n",
    "    # Add a callback for pruning.\n",
    "    pruning_callback = optuna.integration.XGBoostPruningCallback(trial, \"validation-rmse\")\n",
    "    bst = xgb.train(param, dtrain, evals=[(dtest, \"validation\")], callbacks=[pruning_callback])\n",
    "    preds = bst.predict(dtest)\n",
    "    mse = sklearn.metrics.mean_squared_error(yval, preds)\n",
    "    return mse"
   ]
  },
  {
   "cell_type": "code",
   "execution_count": 14,
   "metadata": {},
   "outputs": [
    {
     "name": "stderr",
     "output_type": "stream",
     "text": [
      "[I 2024-09-14 11:39:04,624] A new study created in memory with name: no-name-902bdad6-a35c-40fb-8837-18d5dd6baae5\n",
      "C:\\Users\\sachi\\AppData\\Local\\Temp\\ipykernel_140668\\2378620266.py:10: FutureWarning: suggest_loguniform has been deprecated in v3.0.0. This feature will be removed in v6.0.0. See https://github.com/optuna/optuna/releases/tag/v3.0.0. Use suggest_float(..., log=True) instead.\n",
      "  \"lambda\": trial.suggest_loguniform(\"lambda\", 1e-8, 1.0),\n",
      "C:\\Users\\sachi\\AppData\\Local\\Temp\\ipykernel_140668\\2378620266.py:11: FutureWarning: suggest_loguniform has been deprecated in v3.0.0. This feature will be removed in v6.0.0. See https://github.com/optuna/optuna/releases/tag/v3.0.0. Use suggest_float(..., log=True) instead.\n",
      "  \"alpha\": trial.suggest_loguniform(\"alpha\", 1e-8, 1.0),\n",
      "C:\\Users\\sachi\\AppData\\Local\\Temp\\ipykernel_140668\\2378620266.py:16: FutureWarning: suggest_loguniform has been deprecated in v3.0.0. This feature will be removed in v6.0.0. See https://github.com/optuna/optuna/releases/tag/v3.0.0. Use suggest_float(..., log=True) instead.\n",
      "  param[\"eta\"] = trial.suggest_loguniform(\"eta\", 1e-8, 1.0)\n",
      "C:\\Users\\sachi\\AppData\\Local\\Temp\\ipykernel_140668\\2378620266.py:17: FutureWarning: suggest_loguniform has been deprecated in v3.0.0. This feature will be removed in v6.0.0. See https://github.com/optuna/optuna/releases/tag/v3.0.0. Use suggest_float(..., log=True) instead.\n",
      "  param[\"gamma\"] = trial.suggest_loguniform(\"gamma\", 1e-8, 1.0)\n",
      "C:\\Users\\sachi\\AppData\\Local\\Temp\\ipykernel_140668\\2378620266.py:22: FutureWarning: suggest_loguniform has been deprecated in v3.0.0. This feature will be removed in v6.0.0. See https://github.com/optuna/optuna/releases/tag/v3.0.0. Use suggest_float(..., log=True) instead.\n",
      "  param[\"rate_drop\"] = trial.suggest_loguniform(\"rate_drop\", 1e-8, 1.0)\n",
      "C:\\Users\\sachi\\AppData\\Local\\Temp\\ipykernel_140668\\2378620266.py:23: FutureWarning: suggest_loguniform has been deprecated in v3.0.0. This feature will be removed in v6.0.0. See https://github.com/optuna/optuna/releases/tag/v3.0.0. Use suggest_float(..., log=True) instead.\n",
      "  param[\"skip_drop\"] = trial.suggest_loguniform(\"skip_drop\", 1e-8, 1.0)\n",
      "c:\\Projects\\Used Car Price prediction\\venv1\\lib\\site-packages\\xgboost\\core.py:158: UserWarning: [11:39:19] WARNING: C:\\buildkite-agent\\builds\\buildkite-windows-cpu-autoscaling-group-i-0015a694724fa8361-1\\xgboost\\xgboost-ci-windows\\src\\learner.cc:740: \n",
      "Parameters: { \"silent\" } are not used.\n",
      "\n",
      "  warnings.warn(smsg, UserWarning)\n"
     ]
    },
    {
     "name": "stdout",
     "output_type": "stream",
     "text": [
      "[0]\tvalidation-rmse:43860.77009\n",
      "[1]\tvalidation-rmse:43644.26535\n",
      "[2]\tvalidation-rmse:43432.01740\n",
      "[3]\tvalidation-rmse:43226.17459\n",
      "[4]\tvalidation-rmse:43024.41075\n",
      "[5]\tvalidation-rmse:42827.20225\n",
      "[6]\tvalidation-rmse:42637.09690\n",
      "[7]\tvalidation-rmse:42452.58268\n",
      "[8]\tvalidation-rmse:42268.57789\n",
      "[9]\tvalidation-rmse:42091.85998\n"
     ]
    },
    {
     "name": "stderr",
     "output_type": "stream",
     "text": [
      "[I 2024-09-14 11:39:31,568] Trial 0 finished with value: 1771724678.3676448 and parameters: {'booster': 'dart', 'lambda': 0.04856426056479404, 'alpha': 0.00032803348048934545, 'max_depth': 5, 'eta': 0.014977620546196684, 'gamma': 0.000256842236507969, 'grow_policy': 'lossguide', 'sample_type': 'uniform', 'normalize_type': 'forest', 'rate_drop': 7.988634731740337e-07, 'skip_drop': 0.019108092333764707}. Best is trial 0 with value: 1771724678.3676448.\n",
      "C:\\Users\\sachi\\AppData\\Local\\Temp\\ipykernel_140668\\2378620266.py:10: FutureWarning: suggest_loguniform has been deprecated in v3.0.0. This feature will be removed in v6.0.0. See https://github.com/optuna/optuna/releases/tag/v3.0.0. Use suggest_float(..., log=True) instead.\n",
      "  \"lambda\": trial.suggest_loguniform(\"lambda\", 1e-8, 1.0),\n",
      "C:\\Users\\sachi\\AppData\\Local\\Temp\\ipykernel_140668\\2378620266.py:11: FutureWarning: suggest_loguniform has been deprecated in v3.0.0. This feature will be removed in v6.0.0. See https://github.com/optuna/optuna/releases/tag/v3.0.0. Use suggest_float(..., log=True) instead.\n",
      "  \"alpha\": trial.suggest_loguniform(\"alpha\", 1e-8, 1.0),\n",
      "c:\\Projects\\Used Car Price prediction\\venv1\\lib\\site-packages\\xgboost\\core.py:158: UserWarning: [11:39:44] WARNING: C:\\buildkite-agent\\builds\\buildkite-windows-cpu-autoscaling-group-i-0015a694724fa8361-1\\xgboost\\xgboost-ci-windows\\src\\learner.cc:740: \n",
      "Parameters: { \"silent\" } are not used.\n",
      "\n",
      "  warnings.warn(smsg, UserWarning)\n"
     ]
    },
    {
     "name": "stdout",
     "output_type": "stream",
     "text": [
      "[0]\tvalidation-rmse:42303.49084\n",
      "[1]\tvalidation-rmse:41535.25917\n",
      "[2]\tvalidation-rmse:41165.31726\n",
      "[3]\tvalidation-rmse:40969.51040\n",
      "[4]\tvalidation-rmse:40861.49333\n",
      "[5]\tvalidation-rmse:40792.31153\n",
      "[6]\tvalidation-rmse:40748.89676\n",
      "[7]\tvalidation-rmse:40718.59126\n",
      "[8]\tvalidation-rmse:40694.72261\n",
      "[9]\tvalidation-rmse:40680.62870\n"
     ]
    },
    {
     "name": "stderr",
     "output_type": "stream",
     "text": [
      "[I 2024-09-14 11:39:49,200] Trial 1 finished with value: 1654913551.165651 and parameters: {'booster': 'gblinear', 'lambda': 0.1341034021535205, 'alpha': 0.011885747011955461}. Best is trial 1 with value: 1654913551.165651.\n",
      "C:\\Users\\sachi\\AppData\\Local\\Temp\\ipykernel_140668\\2378620266.py:10: FutureWarning: suggest_loguniform has been deprecated in v3.0.0. This feature will be removed in v6.0.0. See https://github.com/optuna/optuna/releases/tag/v3.0.0. Use suggest_float(..., log=True) instead.\n",
      "  \"lambda\": trial.suggest_loguniform(\"lambda\", 1e-8, 1.0),\n",
      "C:\\Users\\sachi\\AppData\\Local\\Temp\\ipykernel_140668\\2378620266.py:11: FutureWarning: suggest_loguniform has been deprecated in v3.0.0. This feature will be removed in v6.0.0. See https://github.com/optuna/optuna/releases/tag/v3.0.0. Use suggest_float(..., log=True) instead.\n",
      "  \"alpha\": trial.suggest_loguniform(\"alpha\", 1e-8, 1.0),\n",
      "C:\\Users\\sachi\\AppData\\Local\\Temp\\ipykernel_140668\\2378620266.py:16: FutureWarning: suggest_loguniform has been deprecated in v3.0.0. This feature will be removed in v6.0.0. See https://github.com/optuna/optuna/releases/tag/v3.0.0. Use suggest_float(..., log=True) instead.\n",
      "  param[\"eta\"] = trial.suggest_loguniform(\"eta\", 1e-8, 1.0)\n",
      "C:\\Users\\sachi\\AppData\\Local\\Temp\\ipykernel_140668\\2378620266.py:17: FutureWarning: suggest_loguniform has been deprecated in v3.0.0. This feature will be removed in v6.0.0. See https://github.com/optuna/optuna/releases/tag/v3.0.0. Use suggest_float(..., log=True) instead.\n",
      "  param[\"gamma\"] = trial.suggest_loguniform(\"gamma\", 1e-8, 1.0)\n",
      "C:\\Users\\sachi\\AppData\\Local\\Temp\\ipykernel_140668\\2378620266.py:22: FutureWarning: suggest_loguniform has been deprecated in v3.0.0. This feature will be removed in v6.0.0. See https://github.com/optuna/optuna/releases/tag/v3.0.0. Use suggest_float(..., log=True) instead.\n",
      "  param[\"rate_drop\"] = trial.suggest_loguniform(\"rate_drop\", 1e-8, 1.0)\n",
      "C:\\Users\\sachi\\AppData\\Local\\Temp\\ipykernel_140668\\2378620266.py:23: FutureWarning: suggest_loguniform has been deprecated in v3.0.0. This feature will be removed in v6.0.0. See https://github.com/optuna/optuna/releases/tag/v3.0.0. Use suggest_float(..., log=True) instead.\n",
      "  param[\"skip_drop\"] = trial.suggest_loguniform(\"skip_drop\", 1e-8, 1.0)\n",
      "c:\\Projects\\Used Car Price prediction\\venv1\\lib\\site-packages\\xgboost\\core.py:158: UserWarning: [11:40:01] WARNING: C:\\buildkite-agent\\builds\\buildkite-windows-cpu-autoscaling-group-i-0015a694724fa8361-1\\xgboost\\xgboost-ci-windows\\src\\learner.cc:740: \n",
      "Parameters: { \"silent\" } are not used.\n",
      "\n",
      "  warnings.warn(smsg, UserWarning)\n"
     ]
    },
    {
     "name": "stdout",
     "output_type": "stream",
     "text": [
      "[0]\tvalidation-rmse:44083.06168\n",
      "[1]\tvalidation-rmse:44082.79755\n",
      "[2]\tvalidation-rmse:44082.53444\n",
      "[3]\tvalidation-rmse:44082.27122\n",
      "[4]\tvalidation-rmse:44082.00799\n",
      "[5]\tvalidation-rmse:44081.74488\n",
      "[6]\tvalidation-rmse:44081.48080\n",
      "[7]\tvalidation-rmse:44081.21806\n",
      "[8]\tvalidation-rmse:44080.95448\n",
      "[9]\tvalidation-rmse:44080.69036\n"
     ]
    },
    {
     "name": "stderr",
     "output_type": "stream",
     "text": [
      "[I 2024-09-14 11:40:10,945] Trial 2 finished with value: 1943107309.3255622 and parameters: {'booster': 'dart', 'lambda': 0.00017207405583888916, 'alpha': 5.6833215726397184e-05, 'max_depth': 5, 'eta': 1.7645147373475502e-05, 'gamma': 7.212578009538258e-08, 'grow_policy': 'depthwise', 'sample_type': 'weighted', 'normalize_type': 'tree', 'rate_drop': 0.003164020375108335, 'skip_drop': 0.0962464582247778}. Best is trial 1 with value: 1654913551.165651.\n",
      "C:\\Users\\sachi\\AppData\\Local\\Temp\\ipykernel_140668\\2378620266.py:10: FutureWarning: suggest_loguniform has been deprecated in v3.0.0. This feature will be removed in v6.0.0. See https://github.com/optuna/optuna/releases/tag/v3.0.0. Use suggest_float(..., log=True) instead.\n",
      "  \"lambda\": trial.suggest_loguniform(\"lambda\", 1e-8, 1.0),\n",
      "C:\\Users\\sachi\\AppData\\Local\\Temp\\ipykernel_140668\\2378620266.py:11: FutureWarning: suggest_loguniform has been deprecated in v3.0.0. This feature will be removed in v6.0.0. See https://github.com/optuna/optuna/releases/tag/v3.0.0. Use suggest_float(..., log=True) instead.\n",
      "  \"alpha\": trial.suggest_loguniform(\"alpha\", 1e-8, 1.0),\n",
      "C:\\Users\\sachi\\AppData\\Local\\Temp\\ipykernel_140668\\2378620266.py:16: FutureWarning: suggest_loguniform has been deprecated in v3.0.0. This feature will be removed in v6.0.0. See https://github.com/optuna/optuna/releases/tag/v3.0.0. Use suggest_float(..., log=True) instead.\n",
      "  param[\"eta\"] = trial.suggest_loguniform(\"eta\", 1e-8, 1.0)\n",
      "C:\\Users\\sachi\\AppData\\Local\\Temp\\ipykernel_140668\\2378620266.py:17: FutureWarning: suggest_loguniform has been deprecated in v3.0.0. This feature will be removed in v6.0.0. See https://github.com/optuna/optuna/releases/tag/v3.0.0. Use suggest_float(..., log=True) instead.\n",
      "  param[\"gamma\"] = trial.suggest_loguniform(\"gamma\", 1e-8, 1.0)\n",
      "c:\\Projects\\Used Car Price prediction\\venv1\\lib\\site-packages\\xgboost\\core.py:158: UserWarning: [11:40:23] WARNING: C:\\buildkite-agent\\builds\\buildkite-windows-cpu-autoscaling-group-i-0015a694724fa8361-1\\xgboost\\xgboost-ci-windows\\src\\learner.cc:740: \n",
      "Parameters: { \"silent\" } are not used.\n",
      "\n",
      "  warnings.warn(smsg, UserWarning)\n"
     ]
    },
    {
     "name": "stdout",
     "output_type": "stream",
     "text": [
      "[0]\tvalidation-rmse:44083.06219\n",
      "[1]\tvalidation-rmse:44082.79954\n",
      "[2]\tvalidation-rmse:44082.53674\n",
      "[3]\tvalidation-rmse:44082.27381\n",
      "[4]\tvalidation-rmse:44082.01104\n",
      "[5]\tvalidation-rmse:44081.74828\n",
      "[6]\tvalidation-rmse:44081.48561\n",
      "[7]\tvalidation-rmse:44081.22276\n",
      "[8]\tvalidation-rmse:44080.96027\n",
      "[9]\tvalidation-rmse:44080.69768\n"
     ]
    },
    {
     "name": "stderr",
     "output_type": "stream",
     "text": [
      "[I 2024-09-14 11:40:27,065] Trial 3 finished with value: 1943107893.0757058 and parameters: {'booster': 'gbtree', 'lambda': 0.03316388871345973, 'alpha': 0.008502231495783606, 'max_depth': 4, 'eta': 1.8289902608338837e-05, 'gamma': 6.805404149398146e-06, 'grow_policy': 'lossguide'}. Best is trial 1 with value: 1654913551.165651.\n",
      "C:\\Users\\sachi\\AppData\\Local\\Temp\\ipykernel_140668\\2378620266.py:10: FutureWarning: suggest_loguniform has been deprecated in v3.0.0. This feature will be removed in v6.0.0. See https://github.com/optuna/optuna/releases/tag/v3.0.0. Use suggest_float(..., log=True) instead.\n",
      "  \"lambda\": trial.suggest_loguniform(\"lambda\", 1e-8, 1.0),\n",
      "C:\\Users\\sachi\\AppData\\Local\\Temp\\ipykernel_140668\\2378620266.py:11: FutureWarning: suggest_loguniform has been deprecated in v3.0.0. This feature will be removed in v6.0.0. See https://github.com/optuna/optuna/releases/tag/v3.0.0. Use suggest_float(..., log=True) instead.\n",
      "  \"alpha\": trial.suggest_loguniform(\"alpha\", 1e-8, 1.0),\n",
      "C:\\Users\\sachi\\AppData\\Local\\Temp\\ipykernel_140668\\2378620266.py:16: FutureWarning: suggest_loguniform has been deprecated in v3.0.0. This feature will be removed in v6.0.0. See https://github.com/optuna/optuna/releases/tag/v3.0.0. Use suggest_float(..., log=True) instead.\n",
      "  param[\"eta\"] = trial.suggest_loguniform(\"eta\", 1e-8, 1.0)\n",
      "C:\\Users\\sachi\\AppData\\Local\\Temp\\ipykernel_140668\\2378620266.py:17: FutureWarning: suggest_loguniform has been deprecated in v3.0.0. This feature will be removed in v6.0.0. See https://github.com/optuna/optuna/releases/tag/v3.0.0. Use suggest_float(..., log=True) instead.\n",
      "  param[\"gamma\"] = trial.suggest_loguniform(\"gamma\", 1e-8, 1.0)\n",
      "C:\\Users\\sachi\\AppData\\Local\\Temp\\ipykernel_140668\\2378620266.py:22: FutureWarning: suggest_loguniform has been deprecated in v3.0.0. This feature will be removed in v6.0.0. See https://github.com/optuna/optuna/releases/tag/v3.0.0. Use suggest_float(..., log=True) instead.\n",
      "  param[\"rate_drop\"] = trial.suggest_loguniform(\"rate_drop\", 1e-8, 1.0)\n",
      "C:\\Users\\sachi\\AppData\\Local\\Temp\\ipykernel_140668\\2378620266.py:23: FutureWarning: suggest_loguniform has been deprecated in v3.0.0. This feature will be removed in v6.0.0. See https://github.com/optuna/optuna/releases/tag/v3.0.0. Use suggest_float(..., log=True) instead.\n",
      "  param[\"skip_drop\"] = trial.suggest_loguniform(\"skip_drop\", 1e-8, 1.0)\n",
      "c:\\Projects\\Used Car Price prediction\\venv1\\lib\\site-packages\\xgboost\\core.py:158: UserWarning: [11:40:39] WARNING: C:\\buildkite-agent\\builds\\buildkite-windows-cpu-autoscaling-group-i-0015a694724fa8361-1\\xgboost\\xgboost-ci-windows\\src\\learner.cc:740: \n",
      "Parameters: { \"silent\" } are not used.\n",
      "\n",
      "  warnings.warn(smsg, UserWarning)\n"
     ]
    },
    {
     "name": "stdout",
     "output_type": "stream",
     "text": [
      "[0]\tvalidation-rmse:44026.16810\n",
      "[1]\tvalidation-rmse:43969.64304\n",
      "[2]\tvalidation-rmse:43913.74360\n",
      "[3]\tvalidation-rmse:43858.46456\n",
      "[4]\tvalidation-rmse:43803.79729\n",
      "[5]\tvalidation-rmse:43749.73896\n",
      "[6]\tvalidation-rmse:43696.33984\n",
      "[7]\tvalidation-rmse:43643.41398\n",
      "[8]\tvalidation-rmse:43591.13620\n",
      "[9]\tvalidation-rmse:43539.23284\n"
     ]
    },
    {
     "name": "stderr",
     "output_type": "stream",
     "text": [
      "[I 2024-09-14 11:40:48,141] Trial 4 finished with value: 1895664758.1781962 and parameters: {'booster': 'dart', 'lambda': 6.629124952554569e-06, 'alpha': 7.612654107412846e-05, 'max_depth': 1, 'eta': 0.006198752085269574, 'gamma': 1.0310679767357404e-07, 'grow_policy': 'depthwise', 'sample_type': 'weighted', 'normalize_type': 'tree', 'rate_drop': 6.214454020091595e-06, 'skip_drop': 0.17298231341462328}. Best is trial 1 with value: 1654913551.165651.\n",
      "C:\\Users\\sachi\\AppData\\Local\\Temp\\ipykernel_140668\\2378620266.py:10: FutureWarning: suggest_loguniform has been deprecated in v3.0.0. This feature will be removed in v6.0.0. See https://github.com/optuna/optuna/releases/tag/v3.0.0. Use suggest_float(..., log=True) instead.\n",
      "  \"lambda\": trial.suggest_loguniform(\"lambda\", 1e-8, 1.0),\n",
      "C:\\Users\\sachi\\AppData\\Local\\Temp\\ipykernel_140668\\2378620266.py:11: FutureWarning: suggest_loguniform has been deprecated in v3.0.0. This feature will be removed in v6.0.0. See https://github.com/optuna/optuna/releases/tag/v3.0.0. Use suggest_float(..., log=True) instead.\n",
      "  \"alpha\": trial.suggest_loguniform(\"alpha\", 1e-8, 1.0),\n",
      "c:\\Projects\\Used Car Price prediction\\venv1\\lib\\site-packages\\xgboost\\core.py:158: UserWarning: [11:41:01] WARNING: C:\\buildkite-agent\\builds\\buildkite-windows-cpu-autoscaling-group-i-0015a694724fa8361-1\\xgboost\\xgboost-ci-windows\\src\\learner.cc:740: \n",
      "Parameters: { \"silent\" } are not used.\n",
      "\n",
      "  warnings.warn(smsg, UserWarning)\n"
     ]
    },
    {
     "name": "stdout",
     "output_type": "stream",
     "text": [
      "[0]\tvalidation-rmse:37662.74004\n",
      "[1]\tvalidation-rmse:36697.48558\n",
      "[2]\tvalidation-rmse:36372.56986\n",
      "[3]\tvalidation-rmse:36206.11957\n",
      "[4]\tvalidation-rmse:36103.86289\n",
      "[5]\tvalidation-rmse:36035.16849\n",
      "[6]\tvalidation-rmse:35989.07190\n",
      "[7]\tvalidation-rmse:35953.71391\n",
      "[8]\tvalidation-rmse:35927.63150\n",
      "[9]\tvalidation-rmse:35906.97749\n"
     ]
    },
    {
     "name": "stderr",
     "output_type": "stream",
     "text": [
      "[I 2024-09-14 11:41:05,915] Trial 5 finished with value: 1289311034.5650334 and parameters: {'booster': 'gblinear', 'lambda': 0.0008924092876487001, 'alpha': 5.246321590754895e-08}. Best is trial 5 with value: 1289311034.5650334.\n",
      "C:\\Users\\sachi\\AppData\\Local\\Temp\\ipykernel_140668\\2378620266.py:10: FutureWarning: suggest_loguniform has been deprecated in v3.0.0. This feature will be removed in v6.0.0. See https://github.com/optuna/optuna/releases/tag/v3.0.0. Use suggest_float(..., log=True) instead.\n",
      "  \"lambda\": trial.suggest_loguniform(\"lambda\", 1e-8, 1.0),\n",
      "C:\\Users\\sachi\\AppData\\Local\\Temp\\ipykernel_140668\\2378620266.py:11: FutureWarning: suggest_loguniform has been deprecated in v3.0.0. This feature will be removed in v6.0.0. See https://github.com/optuna/optuna/releases/tag/v3.0.0. Use suggest_float(..., log=True) instead.\n",
      "  \"alpha\": trial.suggest_loguniform(\"alpha\", 1e-8, 1.0),\n",
      "C:\\Users\\sachi\\AppData\\Local\\Temp\\ipykernel_140668\\2378620266.py:16: FutureWarning: suggest_loguniform has been deprecated in v3.0.0. This feature will be removed in v6.0.0. See https://github.com/optuna/optuna/releases/tag/v3.0.0. Use suggest_float(..., log=True) instead.\n",
      "  param[\"eta\"] = trial.suggest_loguniform(\"eta\", 1e-8, 1.0)\n",
      "C:\\Users\\sachi\\AppData\\Local\\Temp\\ipykernel_140668\\2378620266.py:17: FutureWarning: suggest_loguniform has been deprecated in v3.0.0. This feature will be removed in v6.0.0. See https://github.com/optuna/optuna/releases/tag/v3.0.0. Use suggest_float(..., log=True) instead.\n",
      "  param[\"gamma\"] = trial.suggest_loguniform(\"gamma\", 1e-8, 1.0)\n",
      "c:\\Projects\\Used Car Price prediction\\venv1\\lib\\site-packages\\xgboost\\core.py:158: UserWarning: [11:41:18] WARNING: C:\\buildkite-agent\\builds\\buildkite-windows-cpu-autoscaling-group-i-0015a694724fa8361-1\\xgboost\\xgboost-ci-windows\\src\\learner.cc:740: \n",
      "Parameters: { \"silent\" } are not used.\n",
      "\n",
      "  warnings.warn(smsg, UserWarning)\n",
      "[I 2024-09-14 11:41:19,759] Trial 6 pruned. Trial was pruned at iteration 0.\n",
      "C:\\Users\\sachi\\AppData\\Local\\Temp\\ipykernel_140668\\2378620266.py:10: FutureWarning: suggest_loguniform has been deprecated in v3.0.0. This feature will be removed in v6.0.0. See https://github.com/optuna/optuna/releases/tag/v3.0.0. Use suggest_float(..., log=True) instead.\n",
      "  \"lambda\": trial.suggest_loguniform(\"lambda\", 1e-8, 1.0),\n",
      "C:\\Users\\sachi\\AppData\\Local\\Temp\\ipykernel_140668\\2378620266.py:11: FutureWarning: suggest_loguniform has been deprecated in v3.0.0. This feature will be removed in v6.0.0. See https://github.com/optuna/optuna/releases/tag/v3.0.0. Use suggest_float(..., log=True) instead.\n",
      "  \"alpha\": trial.suggest_loguniform(\"alpha\", 1e-8, 1.0),\n",
      "c:\\Projects\\Used Car Price prediction\\venv1\\lib\\site-packages\\xgboost\\core.py:158: UserWarning: [11:41:31] WARNING: C:\\buildkite-agent\\builds\\buildkite-windows-cpu-autoscaling-group-i-0015a694724fa8361-1\\xgboost\\xgboost-ci-windows\\src\\learner.cc:740: \n",
      "Parameters: { \"silent\" } are not used.\n",
      "\n",
      "  warnings.warn(smsg, UserWarning)\n"
     ]
    },
    {
     "name": "stdout",
     "output_type": "stream",
     "text": [
      "[0]\tvalidation-rmse:38868.03686\n",
      "[1]\tvalidation-rmse:37662.52066\n",
      "[2]\tvalidation-rmse:37208.88519\n",
      "[3]\tvalidation-rmse:36981.15632\n",
      "[4]\tvalidation-rmse:36845.85985\n",
      "[5]\tvalidation-rmse:36757.72620\n",
      "[6]\tvalidation-rmse:36695.83329\n",
      "[7]\tvalidation-rmse:36650.46307\n",
      "[8]\tvalidation-rmse:36616.25287\n",
      "[9]\tvalidation-rmse:36589.52621\n"
     ]
    },
    {
     "name": "stderr",
     "output_type": "stream",
     "text": [
      "[I 2024-09-14 11:41:36,702] Trial 7 finished with value: 1338793429.4265332 and parameters: {'booster': 'gblinear', 'lambda': 0.004248851064206968, 'alpha': 3.848033652752704e-05}. Best is trial 5 with value: 1289311034.5650334.\n",
      "C:\\Users\\sachi\\AppData\\Local\\Temp\\ipykernel_140668\\2378620266.py:10: FutureWarning: suggest_loguniform has been deprecated in v3.0.0. This feature will be removed in v6.0.0. See https://github.com/optuna/optuna/releases/tag/v3.0.0. Use suggest_float(..., log=True) instead.\n",
      "  \"lambda\": trial.suggest_loguniform(\"lambda\", 1e-8, 1.0),\n",
      "C:\\Users\\sachi\\AppData\\Local\\Temp\\ipykernel_140668\\2378620266.py:11: FutureWarning: suggest_loguniform has been deprecated in v3.0.0. This feature will be removed in v6.0.0. See https://github.com/optuna/optuna/releases/tag/v3.0.0. Use suggest_float(..., log=True) instead.\n",
      "  \"alpha\": trial.suggest_loguniform(\"alpha\", 1e-8, 1.0),\n",
      "C:\\Users\\sachi\\AppData\\Local\\Temp\\ipykernel_140668\\2378620266.py:16: FutureWarning: suggest_loguniform has been deprecated in v3.0.0. This feature will be removed in v6.0.0. See https://github.com/optuna/optuna/releases/tag/v3.0.0. Use suggest_float(..., log=True) instead.\n",
      "  param[\"eta\"] = trial.suggest_loguniform(\"eta\", 1e-8, 1.0)\n",
      "C:\\Users\\sachi\\AppData\\Local\\Temp\\ipykernel_140668\\2378620266.py:17: FutureWarning: suggest_loguniform has been deprecated in v3.0.0. This feature will be removed in v6.0.0. See https://github.com/optuna/optuna/releases/tag/v3.0.0. Use suggest_float(..., log=True) instead.\n",
      "  param[\"gamma\"] = trial.suggest_loguniform(\"gamma\", 1e-8, 1.0)\n",
      "c:\\Projects\\Used Car Price prediction\\venv1\\lib\\site-packages\\xgboost\\core.py:158: UserWarning: [11:41:48] WARNING: C:\\buildkite-agent\\builds\\buildkite-windows-cpu-autoscaling-group-i-0015a694724fa8361-1\\xgboost\\xgboost-ci-windows\\src\\learner.cc:740: \n",
      "Parameters: { \"silent\" } are not used.\n",
      "\n",
      "  warnings.warn(smsg, UserWarning)\n",
      "[I 2024-09-14 11:41:49,833] Trial 8 pruned. Trial was pruned at iteration 0.\n",
      "C:\\Users\\sachi\\AppData\\Local\\Temp\\ipykernel_140668\\2378620266.py:10: FutureWarning: suggest_loguniform has been deprecated in v3.0.0. This feature will be removed in v6.0.0. See https://github.com/optuna/optuna/releases/tag/v3.0.0. Use suggest_float(..., log=True) instead.\n",
      "  \"lambda\": trial.suggest_loguniform(\"lambda\", 1e-8, 1.0),\n",
      "C:\\Users\\sachi\\AppData\\Local\\Temp\\ipykernel_140668\\2378620266.py:11: FutureWarning: suggest_loguniform has been deprecated in v3.0.0. This feature will be removed in v6.0.0. See https://github.com/optuna/optuna/releases/tag/v3.0.0. Use suggest_float(..., log=True) instead.\n",
      "  \"alpha\": trial.suggest_loguniform(\"alpha\", 1e-8, 1.0),\n",
      "C:\\Users\\sachi\\AppData\\Local\\Temp\\ipykernel_140668\\2378620266.py:16: FutureWarning: suggest_loguniform has been deprecated in v3.0.0. This feature will be removed in v6.0.0. See https://github.com/optuna/optuna/releases/tag/v3.0.0. Use suggest_float(..., log=True) instead.\n",
      "  param[\"eta\"] = trial.suggest_loguniform(\"eta\", 1e-8, 1.0)\n",
      "C:\\Users\\sachi\\AppData\\Local\\Temp\\ipykernel_140668\\2378620266.py:17: FutureWarning: suggest_loguniform has been deprecated in v3.0.0. This feature will be removed in v6.0.0. See https://github.com/optuna/optuna/releases/tag/v3.0.0. Use suggest_float(..., log=True) instead.\n",
      "  param[\"gamma\"] = trial.suggest_loguniform(\"gamma\", 1e-8, 1.0)\n",
      "c:\\Projects\\Used Car Price prediction\\venv1\\lib\\site-packages\\xgboost\\core.py:158: UserWarning: [11:42:01] WARNING: C:\\buildkite-agent\\builds\\buildkite-windows-cpu-autoscaling-group-i-0015a694724fa8361-1\\xgboost\\xgboost-ci-windows\\src\\learner.cc:740: \n",
      "Parameters: { \"silent\" } are not used.\n",
      "\n",
      "  warnings.warn(smsg, UserWarning)\n",
      "[I 2024-09-14 11:42:03,458] Trial 9 pruned. Trial was pruned at iteration 0.\n",
      "C:\\Users\\sachi\\AppData\\Local\\Temp\\ipykernel_140668\\2378620266.py:10: FutureWarning: suggest_loguniform has been deprecated in v3.0.0. This feature will be removed in v6.0.0. See https://github.com/optuna/optuna/releases/tag/v3.0.0. Use suggest_float(..., log=True) instead.\n",
      "  \"lambda\": trial.suggest_loguniform(\"lambda\", 1e-8, 1.0),\n",
      "C:\\Users\\sachi\\AppData\\Local\\Temp\\ipykernel_140668\\2378620266.py:11: FutureWarning: suggest_loguniform has been deprecated in v3.0.0. This feature will be removed in v6.0.0. See https://github.com/optuna/optuna/releases/tag/v3.0.0. Use suggest_float(..., log=True) instead.\n",
      "  \"alpha\": trial.suggest_loguniform(\"alpha\", 1e-8, 1.0),\n",
      "c:\\Projects\\Used Car Price prediction\\venv1\\lib\\site-packages\\xgboost\\core.py:158: UserWarning: [11:42:15] WARNING: C:\\buildkite-agent\\builds\\buildkite-windows-cpu-autoscaling-group-i-0015a694724fa8361-1\\xgboost\\xgboost-ci-windows\\src\\learner.cc:740: \n",
      "Parameters: { \"silent\" } are not used.\n",
      "\n",
      "  warnings.warn(smsg, UserWarning)\n"
     ]
    },
    {
     "name": "stdout",
     "output_type": "stream",
     "text": [
      "[0]\tvalidation-rmse:36876.39366\n",
      "[1]\tvalidation-rmse:36199.53017\n",
      "[2]\tvalidation-rmse:35987.87762\n",
      "[3]\tvalidation-rmse:35875.89487\n",
      "[4]\tvalidation-rmse:35802.36672\n",
      "[5]\tvalidation-rmse:35750.30112\n",
      "[6]\tvalidation-rmse:35711.36599\n",
      "[7]\tvalidation-rmse:35681.66421\n",
      "[8]\tvalidation-rmse:35657.24402\n",
      "[9]\tvalidation-rmse:35638.48805\n"
     ]
    },
    {
     "name": "stderr",
     "output_type": "stream",
     "text": [
      "[I 2024-09-14 11:42:21,174] Trial 10 finished with value: 1270101831.5320117 and parameters: {'booster': 'gblinear', 'lambda': 0.0001350237058371667, 'alpha': 1.1710990012787739e-08}. Best is trial 10 with value: 1270101831.5320117.\n",
      "C:\\Users\\sachi\\AppData\\Local\\Temp\\ipykernel_140668\\2378620266.py:10: FutureWarning: suggest_loguniform has been deprecated in v3.0.0. This feature will be removed in v6.0.0. See https://github.com/optuna/optuna/releases/tag/v3.0.0. Use suggest_float(..., log=True) instead.\n",
      "  \"lambda\": trial.suggest_loguniform(\"lambda\", 1e-8, 1.0),\n",
      "C:\\Users\\sachi\\AppData\\Local\\Temp\\ipykernel_140668\\2378620266.py:11: FutureWarning: suggest_loguniform has been deprecated in v3.0.0. This feature will be removed in v6.0.0. See https://github.com/optuna/optuna/releases/tag/v3.0.0. Use suggest_float(..., log=True) instead.\n",
      "  \"alpha\": trial.suggest_loguniform(\"alpha\", 1e-8, 1.0),\n",
      "c:\\Projects\\Used Car Price prediction\\venv1\\lib\\site-packages\\xgboost\\core.py:158: UserWarning: [11:42:34] WARNING: C:\\buildkite-agent\\builds\\buildkite-windows-cpu-autoscaling-group-i-0015a694724fa8361-1\\xgboost\\xgboost-ci-windows\\src\\learner.cc:740: \n",
      "Parameters: { \"silent\" } are not used.\n",
      "\n",
      "  warnings.warn(smsg, UserWarning)\n"
     ]
    },
    {
     "name": "stdout",
     "output_type": "stream",
     "text": [
      "[0]\tvalidation-rmse:37028.50909\n",
      "[1]\tvalidation-rmse:36288.15329\n",
      "[2]\tvalidation-rmse:36040.73549\n",
      "[3]\tvalidation-rmse:35912.23751\n",
      "[4]\tvalidation-rmse:35829.82491\n",
      "[5]\tvalidation-rmse:35770.89052\n",
      "[6]\tvalidation-rmse:35730.74301\n",
      "[7]\tvalidation-rmse:35700.20509\n",
      "[8]\tvalidation-rmse:35675.55592\n",
      "[9]\tvalidation-rmse:35656.66279\n"
     ]
    },
    {
     "name": "stderr",
     "output_type": "stream",
     "text": [
      "[I 2024-09-14 11:42:39,820] Trial 11 finished with value: 1271397601.9873056 and parameters: {'booster': 'gblinear', 'lambda': 0.00022112426921435158, 'alpha': 1.507377075201672e-08}. Best is trial 10 with value: 1270101831.5320117.\n",
      "C:\\Users\\sachi\\AppData\\Local\\Temp\\ipykernel_140668\\2378620266.py:10: FutureWarning: suggest_loguniform has been deprecated in v3.0.0. This feature will be removed in v6.0.0. See https://github.com/optuna/optuna/releases/tag/v3.0.0. Use suggest_float(..., log=True) instead.\n",
      "  \"lambda\": trial.suggest_loguniform(\"lambda\", 1e-8, 1.0),\n",
      "C:\\Users\\sachi\\AppData\\Local\\Temp\\ipykernel_140668\\2378620266.py:11: FutureWarning: suggest_loguniform has been deprecated in v3.0.0. This feature will be removed in v6.0.0. See https://github.com/optuna/optuna/releases/tag/v3.0.0. Use suggest_float(..., log=True) instead.\n",
      "  \"alpha\": trial.suggest_loguniform(\"alpha\", 1e-8, 1.0),\n",
      "c:\\Projects\\Used Car Price prediction\\venv1\\lib\\site-packages\\xgboost\\core.py:158: UserWarning: [11:42:52] WARNING: C:\\buildkite-agent\\builds\\buildkite-windows-cpu-autoscaling-group-i-0015a694724fa8361-1\\xgboost\\xgboost-ci-windows\\src\\learner.cc:740: \n",
      "Parameters: { \"silent\" } are not used.\n",
      "\n",
      "  warnings.warn(smsg, UserWarning)\n"
     ]
    },
    {
     "name": "stdout",
     "output_type": "stream",
     "text": [
      "[0]\tvalidation-rmse:36682.45006\n",
      "[1]\tvalidation-rmse:36126.78605\n",
      "[2]\tvalidation-rmse:35994.75708\n",
      "[3]\tvalidation-rmse:35925.72851\n",
      "[4]\tvalidation-rmse:35873.53746\n",
      "[5]\tvalidation-rmse:35829.67085\n",
      "[6]\tvalidation-rmse:35794.65189\n",
      "[7]\tvalidation-rmse:35766.62946\n",
      "[8]\tvalidation-rmse:35742.68779\n",
      "[9]\tvalidation-rmse:35722.48866\n"
     ]
    },
    {
     "name": "stderr",
     "output_type": "stream",
     "text": [
      "[I 2024-09-14 11:42:57,332] Trial 12 finished with value: 1276096200.5620735 and parameters: {'booster': 'gblinear', 'lambda': 1.9760475473175244e-05, 'alpha': 1.1438020710963437e-08}. Best is trial 10 with value: 1270101831.5320117.\n",
      "C:\\Users\\sachi\\AppData\\Local\\Temp\\ipykernel_140668\\2378620266.py:10: FutureWarning: suggest_loguniform has been deprecated in v3.0.0. This feature will be removed in v6.0.0. See https://github.com/optuna/optuna/releases/tag/v3.0.0. Use suggest_float(..., log=True) instead.\n",
      "  \"lambda\": trial.suggest_loguniform(\"lambda\", 1e-8, 1.0),\n",
      "C:\\Users\\sachi\\AppData\\Local\\Temp\\ipykernel_140668\\2378620266.py:11: FutureWarning: suggest_loguniform has been deprecated in v3.0.0. This feature will be removed in v6.0.0. See https://github.com/optuna/optuna/releases/tag/v3.0.0. Use suggest_float(..., log=True) instead.\n",
      "  \"alpha\": trial.suggest_loguniform(\"alpha\", 1e-8, 1.0),\n",
      "c:\\Projects\\Used Car Price prediction\\venv1\\lib\\site-packages\\xgboost\\core.py:158: UserWarning: [11:43:10] WARNING: C:\\buildkite-agent\\builds\\buildkite-windows-cpu-autoscaling-group-i-0015a694724fa8361-1\\xgboost\\xgboost-ci-windows\\src\\learner.cc:740: \n",
      "Parameters: { \"silent\" } are not used.\n",
      "\n",
      "  warnings.warn(smsg, UserWarning)\n"
     ]
    },
    {
     "name": "stdout",
     "output_type": "stream",
     "text": [
      "[0]\tvalidation-rmse:36675.52632\n",
      "[1]\tvalidation-rmse:36158.68972\n",
      "[2]\tvalidation-rmse:36050.88599\n",
      "[3]\tvalidation-rmse:35993.49177\n",
      "[4]\tvalidation-rmse:35950.35412\n",
      "[5]\tvalidation-rmse:35913.29489\n",
      "[6]\tvalidation-rmse:35879.04166\n",
      "[7]\tvalidation-rmse:35851.32717\n",
      "[8]\tvalidation-rmse:35827.74083\n",
      "[9]\tvalidation-rmse:35808.37231\n"
     ]
    },
    {
     "name": "stderr",
     "output_type": "stream",
     "text": [
      "[I 2024-09-14 11:43:15,666] Trial 13 finished with value: 1282239526.0067575 and parameters: {'booster': 'gblinear', 'lambda': 2.417130692240553e-06, 'alpha': 1.5189038393475155e-07}. Best is trial 10 with value: 1270101831.5320117.\n",
      "C:\\Users\\sachi\\AppData\\Local\\Temp\\ipykernel_140668\\2378620266.py:10: FutureWarning: suggest_loguniform has been deprecated in v3.0.0. This feature will be removed in v6.0.0. See https://github.com/optuna/optuna/releases/tag/v3.0.0. Use suggest_float(..., log=True) instead.\n",
      "  \"lambda\": trial.suggest_loguniform(\"lambda\", 1e-8, 1.0),\n",
      "C:\\Users\\sachi\\AppData\\Local\\Temp\\ipykernel_140668\\2378620266.py:11: FutureWarning: suggest_loguniform has been deprecated in v3.0.0. This feature will be removed in v6.0.0. See https://github.com/optuna/optuna/releases/tag/v3.0.0. Use suggest_float(..., log=True) instead.\n",
      "  \"alpha\": trial.suggest_loguniform(\"alpha\", 1e-8, 1.0),\n",
      "c:\\Projects\\Used Car Price prediction\\venv1\\lib\\site-packages\\xgboost\\core.py:158: UserWarning: [11:43:29] WARNING: C:\\buildkite-agent\\builds\\buildkite-windows-cpu-autoscaling-group-i-0015a694724fa8361-1\\xgboost\\xgboost-ci-windows\\src\\learner.cc:740: \n",
      "Parameters: { \"silent\" } are not used.\n",
      "\n",
      "  warnings.warn(smsg, UserWarning)\n"
     ]
    },
    {
     "name": "stdout",
     "output_type": "stream",
     "text": [
      "[0]\tvalidation-rmse:37050.84323\n",
      "[1]\tvalidation-rmse:36286.05895\n",
      "[2]\tvalidation-rmse:36043.91630\n",
      "[3]\tvalidation-rmse:35916.09153\n",
      "[4]\tvalidation-rmse:35835.65036\n",
      "[5]\tvalidation-rmse:35780.22872\n",
      "[6]\tvalidation-rmse:35739.69244\n",
      "[7]\tvalidation-rmse:35708.39174\n",
      "[8]\tvalidation-rmse:35684.61982\n",
      "[9]\tvalidation-rmse:35665.40600\n"
     ]
    },
    {
     "name": "stderr",
     "output_type": "stream",
     "text": [
      "[I 2024-09-14 11:43:33,666] Trial 14 finished with value: 1272021185.791895 and parameters: {'booster': 'gblinear', 'lambda': 0.00024252161075667813, 'alpha': 4.123339682662897e-07}. Best is trial 10 with value: 1270101831.5320117.\n",
      "C:\\Users\\sachi\\AppData\\Local\\Temp\\ipykernel_140668\\2378620266.py:10: FutureWarning: suggest_loguniform has been deprecated in v3.0.0. This feature will be removed in v6.0.0. See https://github.com/optuna/optuna/releases/tag/v3.0.0. Use suggest_float(..., log=True) instead.\n",
      "  \"lambda\": trial.suggest_loguniform(\"lambda\", 1e-8, 1.0),\n",
      "C:\\Users\\sachi\\AppData\\Local\\Temp\\ipykernel_140668\\2378620266.py:11: FutureWarning: suggest_loguniform has been deprecated in v3.0.0. This feature will be removed in v6.0.0. See https://github.com/optuna/optuna/releases/tag/v3.0.0. Use suggest_float(..., log=True) instead.\n",
      "  \"alpha\": trial.suggest_loguniform(\"alpha\", 1e-8, 1.0),\n",
      "c:\\Projects\\Used Car Price prediction\\venv1\\lib\\site-packages\\xgboost\\core.py:158: UserWarning: [11:43:45] WARNING: C:\\buildkite-agent\\builds\\buildkite-windows-cpu-autoscaling-group-i-0015a694724fa8361-1\\xgboost\\xgboost-ci-windows\\src\\learner.cc:740: \n",
      "Parameters: { \"silent\" } are not used.\n",
      "\n",
      "  warnings.warn(smsg, UserWarning)\n",
      "[I 2024-09-14 11:43:46,955] Trial 15 pruned. Trial was pruned at iteration 0.\n",
      "C:\\Users\\sachi\\AppData\\Local\\Temp\\ipykernel_140668\\2378620266.py:10: FutureWarning: suggest_loguniform has been deprecated in v3.0.0. This feature will be removed in v6.0.0. See https://github.com/optuna/optuna/releases/tag/v3.0.0. Use suggest_float(..., log=True) instead.\n",
      "  \"lambda\": trial.suggest_loguniform(\"lambda\", 1e-8, 1.0),\n",
      "C:\\Users\\sachi\\AppData\\Local\\Temp\\ipykernel_140668\\2378620266.py:11: FutureWarning: suggest_loguniform has been deprecated in v3.0.0. This feature will be removed in v6.0.0. See https://github.com/optuna/optuna/releases/tag/v3.0.0. Use suggest_float(..., log=True) instead.\n",
      "  \"alpha\": trial.suggest_loguniform(\"alpha\", 1e-8, 1.0),\n",
      "c:\\Projects\\Used Car Price prediction\\venv1\\lib\\site-packages\\xgboost\\core.py:158: UserWarning: [11:44:02] WARNING: C:\\buildkite-agent\\builds\\buildkite-windows-cpu-autoscaling-group-i-0015a694724fa8361-1\\xgboost\\xgboost-ci-windows\\src\\learner.cc:740: \n",
      "Parameters: { \"silent\" } are not used.\n",
      "\n",
      "  warnings.warn(smsg, UserWarning)\n"
     ]
    },
    {
     "name": "stdout",
     "output_type": "stream",
     "text": [
      "[0]\tvalidation-rmse:36684.84002\n",
      "[1]\tvalidation-rmse:36171.25965\n",
      "[2]\tvalidation-rmse:36069.35865\n",
      "[3]\tvalidation-rmse:36015.55172\n",
      "[4]\tvalidation-rmse:35972.99782\n",
      "[5]\tvalidation-rmse:35935.65940\n",
      "[6]\tvalidation-rmse:35903.38680\n",
      "[7]\tvalidation-rmse:35877.25103\n",
      "[8]\tvalidation-rmse:35853.79108\n",
      "[9]\tvalidation-rmse:35833.14940\n"
     ]
    },
    {
     "name": "stderr",
     "output_type": "stream",
     "text": [
      "[I 2024-09-14 11:44:07,139] Trial 16 finished with value: 1284014600.2219374 and parameters: {'booster': 'gblinear', 'lambda': 7.883720787551956e-07, 'alpha': 1.783587294883968e-08}. Best is trial 10 with value: 1270101831.5320117.\n",
      "C:\\Users\\sachi\\AppData\\Local\\Temp\\ipykernel_140668\\2378620266.py:10: FutureWarning: suggest_loguniform has been deprecated in v3.0.0. This feature will be removed in v6.0.0. See https://github.com/optuna/optuna/releases/tag/v3.0.0. Use suggest_float(..., log=True) instead.\n",
      "  \"lambda\": trial.suggest_loguniform(\"lambda\", 1e-8, 1.0),\n",
      "C:\\Users\\sachi\\AppData\\Local\\Temp\\ipykernel_140668\\2378620266.py:11: FutureWarning: suggest_loguniform has been deprecated in v3.0.0. This feature will be removed in v6.0.0. See https://github.com/optuna/optuna/releases/tag/v3.0.0. Use suggest_float(..., log=True) instead.\n",
      "  \"alpha\": trial.suggest_loguniform(\"alpha\", 1e-8, 1.0),\n",
      "c:\\Projects\\Used Car Price prediction\\venv1\\lib\\site-packages\\xgboost\\core.py:158: UserWarning: [11:44:22] WARNING: C:\\buildkite-agent\\builds\\buildkite-windows-cpu-autoscaling-group-i-0015a694724fa8361-1\\xgboost\\xgboost-ci-windows\\src\\learner.cc:740: \n",
      "Parameters: { \"silent\" } are not used.\n",
      "\n",
      "  warnings.warn(smsg, UserWarning)\n"
     ]
    },
    {
     "name": "stdout",
     "output_type": "stream",
     "text": [
      "[0]\tvalidation-rmse:36708.22091\n",
      "[1]\tvalidation-rmse:36130.78841\n",
      "[2]\tvalidation-rmse:35978.15969\n",
      "[3]\tvalidation-rmse:35896.70856\n",
      "[4]\tvalidation-rmse:35840.57004\n",
      "[5]\tvalidation-rmse:35796.71966\n",
      "[6]\tvalidation-rmse:35761.15286\n",
      "[7]\tvalidation-rmse:35732.33597\n",
      "[8]\tvalidation-rmse:35708.06425\n",
      "[9]\tvalidation-rmse:35688.32920\n"
     ]
    },
    {
     "name": "stderr",
     "output_type": "stream",
     "text": [
      "[I 2024-09-14 11:44:27,087] Trial 17 finished with value: 1273656843.9815083 and parameters: {'booster': 'gblinear', 'lambda': 3.34262095564791e-05, 'alpha': 0.0009805858267288436}. Best is trial 10 with value: 1270101831.5320117.\n",
      "C:\\Users\\sachi\\AppData\\Local\\Temp\\ipykernel_140668\\2378620266.py:10: FutureWarning: suggest_loguniform has been deprecated in v3.0.0. This feature will be removed in v6.0.0. See https://github.com/optuna/optuna/releases/tag/v3.0.0. Use suggest_float(..., log=True) instead.\n",
      "  \"lambda\": trial.suggest_loguniform(\"lambda\", 1e-8, 1.0),\n",
      "C:\\Users\\sachi\\AppData\\Local\\Temp\\ipykernel_140668\\2378620266.py:11: FutureWarning: suggest_loguniform has been deprecated in v3.0.0. This feature will be removed in v6.0.0. See https://github.com/optuna/optuna/releases/tag/v3.0.0. Use suggest_float(..., log=True) instead.\n",
      "  \"alpha\": trial.suggest_loguniform(\"alpha\", 1e-8, 1.0),\n",
      "c:\\Projects\\Used Car Price prediction\\venv1\\lib\\site-packages\\xgboost\\core.py:158: UserWarning: [11:44:42] WARNING: C:\\buildkite-agent\\builds\\buildkite-windows-cpu-autoscaling-group-i-0015a694724fa8361-1\\xgboost\\xgboost-ci-windows\\src\\learner.cc:740: \n",
      "Parameters: { \"silent\" } are not used.\n",
      "\n",
      "  warnings.warn(smsg, UserWarning)\n"
     ]
    },
    {
     "name": "stdout",
     "output_type": "stream",
     "text": [
      "[0]\tvalidation-rmse:38155.04318\n"
     ]
    },
    {
     "name": "stderr",
     "output_type": "stream",
     "text": [
      "[I 2024-09-14 11:44:43,436] Trial 18 pruned. Trial was pruned at iteration 0.\n",
      "C:\\Users\\sachi\\AppData\\Local\\Temp\\ipykernel_140668\\2378620266.py:10: FutureWarning: suggest_loguniform has been deprecated in v3.0.0. This feature will be removed in v6.0.0. See https://github.com/optuna/optuna/releases/tag/v3.0.0. Use suggest_float(..., log=True) instead.\n",
      "  \"lambda\": trial.suggest_loguniform(\"lambda\", 1e-8, 1.0),\n",
      "C:\\Users\\sachi\\AppData\\Local\\Temp\\ipykernel_140668\\2378620266.py:11: FutureWarning: suggest_loguniform has been deprecated in v3.0.0. This feature will be removed in v6.0.0. See https://github.com/optuna/optuna/releases/tag/v3.0.0. Use suggest_float(..., log=True) instead.\n",
      "  \"alpha\": trial.suggest_loguniform(\"alpha\", 1e-8, 1.0),\n",
      "C:\\Users\\sachi\\AppData\\Local\\Temp\\ipykernel_140668\\2378620266.py:16: FutureWarning: suggest_loguniform has been deprecated in v3.0.0. This feature will be removed in v6.0.0. See https://github.com/optuna/optuna/releases/tag/v3.0.0. Use suggest_float(..., log=True) instead.\n",
      "  param[\"eta\"] = trial.suggest_loguniform(\"eta\", 1e-8, 1.0)\n",
      "C:\\Users\\sachi\\AppData\\Local\\Temp\\ipykernel_140668\\2378620266.py:17: FutureWarning: suggest_loguniform has been deprecated in v3.0.0. This feature will be removed in v6.0.0. See https://github.com/optuna/optuna/releases/tag/v3.0.0. Use suggest_float(..., log=True) instead.\n",
      "  param[\"gamma\"] = trial.suggest_loguniform(\"gamma\", 1e-8, 1.0)\n",
      "C:\\Users\\sachi\\AppData\\Local\\Temp\\ipykernel_140668\\2378620266.py:22: FutureWarning: suggest_loguniform has been deprecated in v3.0.0. This feature will be removed in v6.0.0. See https://github.com/optuna/optuna/releases/tag/v3.0.0. Use suggest_float(..., log=True) instead.\n",
      "  param[\"rate_drop\"] = trial.suggest_loguniform(\"rate_drop\", 1e-8, 1.0)\n",
      "C:\\Users\\sachi\\AppData\\Local\\Temp\\ipykernel_140668\\2378620266.py:23: FutureWarning: suggest_loguniform has been deprecated in v3.0.0. This feature will be removed in v6.0.0. See https://github.com/optuna/optuna/releases/tag/v3.0.0. Use suggest_float(..., log=True) instead.\n",
      "  param[\"skip_drop\"] = trial.suggest_loguniform(\"skip_drop\", 1e-8, 1.0)\n",
      "c:\\Projects\\Used Car Price prediction\\venv1\\lib\\site-packages\\xgboost\\core.py:158: UserWarning: [11:45:03] WARNING: C:\\buildkite-agent\\builds\\buildkite-windows-cpu-autoscaling-group-i-0015a694724fa8361-1\\xgboost\\xgboost-ci-windows\\src\\learner.cc:740: \n",
      "Parameters: { \"silent\" } are not used.\n",
      "\n",
      "  warnings.warn(smsg, UserWarning)\n",
      "[I 2024-09-14 11:45:06,358] Trial 19 pruned. Trial was pruned at iteration 0.\n",
      "C:\\Users\\sachi\\AppData\\Local\\Temp\\ipykernel_140668\\2378620266.py:10: FutureWarning: suggest_loguniform has been deprecated in v3.0.0. This feature will be removed in v6.0.0. See https://github.com/optuna/optuna/releases/tag/v3.0.0. Use suggest_float(..., log=True) instead.\n",
      "  \"lambda\": trial.suggest_loguniform(\"lambda\", 1e-8, 1.0),\n",
      "C:\\Users\\sachi\\AppData\\Local\\Temp\\ipykernel_140668\\2378620266.py:11: FutureWarning: suggest_loguniform has been deprecated in v3.0.0. This feature will be removed in v6.0.0. See https://github.com/optuna/optuna/releases/tag/v3.0.0. Use suggest_float(..., log=True) instead.\n",
      "  \"alpha\": trial.suggest_loguniform(\"alpha\", 1e-8, 1.0),\n",
      "c:\\Projects\\Used Car Price prediction\\venv1\\lib\\site-packages\\xgboost\\core.py:158: UserWarning: [11:45:19] WARNING: C:\\buildkite-agent\\builds\\buildkite-windows-cpu-autoscaling-group-i-0015a694724fa8361-1\\xgboost\\xgboost-ci-windows\\src\\learner.cc:740: \n",
      "Parameters: { \"silent\" } are not used.\n",
      "\n",
      "  warnings.warn(smsg, UserWarning)\n"
     ]
    },
    {
     "name": "stdout",
     "output_type": "stream",
     "text": [
      "[0]\tvalidation-rmse:36708.25402\n",
      "[1]\tvalidation-rmse:36192.75546\n",
      "[2]\tvalidation-rmse:36079.19907\n",
      "[3]\tvalidation-rmse:36019.28204\n",
      "[4]\tvalidation-rmse:35972.32822\n",
      "[5]\tvalidation-rmse:35933.21831\n",
      "[6]\tvalidation-rmse:35899.79041\n",
      "[7]\tvalidation-rmse:35871.24077\n",
      "[8]\tvalidation-rmse:35847.18386\n",
      "[9]\tvalidation-rmse:35826.80500\n"
     ]
    },
    {
     "name": "stderr",
     "output_type": "stream",
     "text": [
      "[I 2024-09-14 11:45:23,744] Trial 20 finished with value: 1283559954.5909073 and parameters: {'booster': 'gblinear', 'lambda': 5.09401436388604e-07, 'alpha': 1.0084316019552014e-07}. Best is trial 10 with value: 1270101831.5320117.\n",
      "C:\\Users\\sachi\\AppData\\Local\\Temp\\ipykernel_140668\\2378620266.py:10: FutureWarning: suggest_loguniform has been deprecated in v3.0.0. This feature will be removed in v6.0.0. See https://github.com/optuna/optuna/releases/tag/v3.0.0. Use suggest_float(..., log=True) instead.\n",
      "  \"lambda\": trial.suggest_loguniform(\"lambda\", 1e-8, 1.0),\n",
      "C:\\Users\\sachi\\AppData\\Local\\Temp\\ipykernel_140668\\2378620266.py:11: FutureWarning: suggest_loguniform has been deprecated in v3.0.0. This feature will be removed in v6.0.0. See https://github.com/optuna/optuna/releases/tag/v3.0.0. Use suggest_float(..., log=True) instead.\n",
      "  \"alpha\": trial.suggest_loguniform(\"alpha\", 1e-8, 1.0),\n",
      "c:\\Projects\\Used Car Price prediction\\venv1\\lib\\site-packages\\xgboost\\core.py:158: UserWarning: [11:45:37] WARNING: C:\\buildkite-agent\\builds\\buildkite-windows-cpu-autoscaling-group-i-0015a694724fa8361-1\\xgboost\\xgboost-ci-windows\\src\\learner.cc:740: \n",
      "Parameters: { \"silent\" } are not used.\n",
      "\n",
      "  warnings.warn(smsg, UserWarning)\n"
     ]
    },
    {
     "name": "stdout",
     "output_type": "stream",
     "text": [
      "[0]\tvalidation-rmse:37096.27246\n"
     ]
    },
    {
     "name": "stderr",
     "output_type": "stream",
     "text": [
      "[I 2024-09-14 11:45:39,062] Trial 21 pruned. Trial was pruned at iteration 0.\n",
      "C:\\Users\\sachi\\AppData\\Local\\Temp\\ipykernel_140668\\2378620266.py:10: FutureWarning: suggest_loguniform has been deprecated in v3.0.0. This feature will be removed in v6.0.0. See https://github.com/optuna/optuna/releases/tag/v3.0.0. Use suggest_float(..., log=True) instead.\n",
      "  \"lambda\": trial.suggest_loguniform(\"lambda\", 1e-8, 1.0),\n",
      "C:\\Users\\sachi\\AppData\\Local\\Temp\\ipykernel_140668\\2378620266.py:11: FutureWarning: suggest_loguniform has been deprecated in v3.0.0. This feature will be removed in v6.0.0. See https://github.com/optuna/optuna/releases/tag/v3.0.0. Use suggest_float(..., log=True) instead.\n",
      "  \"alpha\": trial.suggest_loguniform(\"alpha\", 1e-8, 1.0),\n",
      "c:\\Projects\\Used Car Price prediction\\venv1\\lib\\site-packages\\xgboost\\core.py:158: UserWarning: [11:45:56] WARNING: C:\\buildkite-agent\\builds\\buildkite-windows-cpu-autoscaling-group-i-0015a694724fa8361-1\\xgboost\\xgboost-ci-windows\\src\\learner.cc:740: \n",
      "Parameters: { \"silent\" } are not used.\n",
      "\n",
      "  warnings.warn(smsg, UserWarning)\n"
     ]
    },
    {
     "name": "stdout",
     "output_type": "stream",
     "text": [
      "[0]\tvalidation-rmse:37237.61334\n"
     ]
    },
    {
     "name": "stderr",
     "output_type": "stream",
     "text": [
      "[I 2024-09-14 11:45:57,950] Trial 22 pruned. Trial was pruned at iteration 0.\n",
      "C:\\Users\\sachi\\AppData\\Local\\Temp\\ipykernel_140668\\2378620266.py:10: FutureWarning: suggest_loguniform has been deprecated in v3.0.0. This feature will be removed in v6.0.0. See https://github.com/optuna/optuna/releases/tag/v3.0.0. Use suggest_float(..., log=True) instead.\n",
      "  \"lambda\": trial.suggest_loguniform(\"lambda\", 1e-8, 1.0),\n",
      "C:\\Users\\sachi\\AppData\\Local\\Temp\\ipykernel_140668\\2378620266.py:11: FutureWarning: suggest_loguniform has been deprecated in v3.0.0. This feature will be removed in v6.0.0. See https://github.com/optuna/optuna/releases/tag/v3.0.0. Use suggest_float(..., log=True) instead.\n",
      "  \"alpha\": trial.suggest_loguniform(\"alpha\", 1e-8, 1.0),\n",
      "c:\\Projects\\Used Car Price prediction\\venv1\\lib\\site-packages\\xgboost\\core.py:158: UserWarning: [11:46:17] WARNING: C:\\buildkite-agent\\builds\\buildkite-windows-cpu-autoscaling-group-i-0015a694724fa8361-1\\xgboost\\xgboost-ci-windows\\src\\learner.cc:740: \n",
      "Parameters: { \"silent\" } are not used.\n",
      "\n",
      "  warnings.warn(smsg, UserWarning)\n"
     ]
    },
    {
     "name": "stdout",
     "output_type": "stream",
     "text": [
      "[0]\tvalidation-rmse:36829.82837\n",
      "[1]\tvalidation-rmse:36179.14253\n",
      "[2]\tvalidation-rmse:35987.18590\n",
      "[3]\tvalidation-rmse:35882.62804\n",
      "[4]\tvalidation-rmse:35812.55369\n",
      "[5]\tvalidation-rmse:35761.88308\n",
      "[6]\tvalidation-rmse:35722.58006\n",
      "[7]\tvalidation-rmse:35689.87962\n",
      "[8]\tvalidation-rmse:35663.57051\n",
      "[9]\tvalidation-rmse:35644.25745\n"
     ]
    },
    {
     "name": "stderr",
     "output_type": "stream",
     "text": [
      "[I 2024-09-14 11:46:22,141] Trial 23 finished with value: 1270513096.1831136 and parameters: {'booster': 'gblinear', 'lambda': 7.736522052858605e-05, 'alpha': 3.710485521381528e-07}. Best is trial 10 with value: 1270101831.5320117.\n",
      "C:\\Users\\sachi\\AppData\\Local\\Temp\\ipykernel_140668\\2378620266.py:10: FutureWarning: suggest_loguniform has been deprecated in v3.0.0. This feature will be removed in v6.0.0. See https://github.com/optuna/optuna/releases/tag/v3.0.0. Use suggest_float(..., log=True) instead.\n",
      "  \"lambda\": trial.suggest_loguniform(\"lambda\", 1e-8, 1.0),\n",
      "C:\\Users\\sachi\\AppData\\Local\\Temp\\ipykernel_140668\\2378620266.py:11: FutureWarning: suggest_loguniform has been deprecated in v3.0.0. This feature will be removed in v6.0.0. See https://github.com/optuna/optuna/releases/tag/v3.0.0. Use suggest_float(..., log=True) instead.\n",
      "  \"alpha\": trial.suggest_loguniform(\"alpha\", 1e-8, 1.0),\n",
      "c:\\Projects\\Used Car Price prediction\\venv1\\lib\\site-packages\\xgboost\\core.py:158: UserWarning: [11:46:35] WARNING: C:\\buildkite-agent\\builds\\buildkite-windows-cpu-autoscaling-group-i-0015a694724fa8361-1\\xgboost\\xgboost-ci-windows\\src\\learner.cc:740: \n",
      "Parameters: { \"silent\" } are not used.\n",
      "\n",
      "  warnings.warn(smsg, UserWarning)\n"
     ]
    },
    {
     "name": "stdout",
     "output_type": "stream",
     "text": [
      "[0]\tvalidation-rmse:36633.63764\n",
      "[1]\tvalidation-rmse:36141.12666\n",
      "[2]\tvalidation-rmse:36034.93622\n",
      "[3]\tvalidation-rmse:35980.24607\n",
      "[4]\tvalidation-rmse:35936.41430\n",
      "[5]\tvalidation-rmse:35900.71978\n",
      "[6]\tvalidation-rmse:35867.79464\n",
      "[7]\tvalidation-rmse:35841.11957\n",
      "[8]\tvalidation-rmse:35817.16921\n",
      "[9]\tvalidation-rmse:35797.40320\n"
     ]
    },
    {
     "name": "stderr",
     "output_type": "stream",
     "text": [
      "[I 2024-09-14 11:46:39,671] Trial 24 finished with value: 1281454072.4116545 and parameters: {'booster': 'gblinear', 'lambda': 5.069347634709066e-06, 'alpha': 1.325987619163576e-08}. Best is trial 10 with value: 1270101831.5320117.\n",
      "C:\\Users\\sachi\\AppData\\Local\\Temp\\ipykernel_140668\\2378620266.py:10: FutureWarning: suggest_loguniform has been deprecated in v3.0.0. This feature will be removed in v6.0.0. See https://github.com/optuna/optuna/releases/tag/v3.0.0. Use suggest_float(..., log=True) instead.\n",
      "  \"lambda\": trial.suggest_loguniform(\"lambda\", 1e-8, 1.0),\n",
      "C:\\Users\\sachi\\AppData\\Local\\Temp\\ipykernel_140668\\2378620266.py:11: FutureWarning: suggest_loguniform has been deprecated in v3.0.0. This feature will be removed in v6.0.0. See https://github.com/optuna/optuna/releases/tag/v3.0.0. Use suggest_float(..., log=True) instead.\n",
      "  \"alpha\": trial.suggest_loguniform(\"alpha\", 1e-8, 1.0),\n",
      "c:\\Projects\\Used Car Price prediction\\venv1\\lib\\site-packages\\xgboost\\core.py:158: UserWarning: [11:46:53] WARNING: C:\\buildkite-agent\\builds\\buildkite-windows-cpu-autoscaling-group-i-0015a694724fa8361-1\\xgboost\\xgboost-ci-windows\\src\\learner.cc:740: \n",
      "Parameters: { \"silent\" } are not used.\n",
      "\n",
      "  warnings.warn(smsg, UserWarning)\n"
     ]
    },
    {
     "name": "stdout",
     "output_type": "stream",
     "text": [
      "[0]\tvalidation-rmse:40290.42945\n"
     ]
    },
    {
     "name": "stderr",
     "output_type": "stream",
     "text": [
      "[I 2024-09-14 11:46:54,946] Trial 25 pruned. Trial was pruned at iteration 0.\n",
      "C:\\Users\\sachi\\AppData\\Local\\Temp\\ipykernel_140668\\2378620266.py:10: FutureWarning: suggest_loguniform has been deprecated in v3.0.0. This feature will be removed in v6.0.0. See https://github.com/optuna/optuna/releases/tag/v3.0.0. Use suggest_float(..., log=True) instead.\n",
      "  \"lambda\": trial.suggest_loguniform(\"lambda\", 1e-8, 1.0),\n",
      "C:\\Users\\sachi\\AppData\\Local\\Temp\\ipykernel_140668\\2378620266.py:11: FutureWarning: suggest_loguniform has been deprecated in v3.0.0. This feature will be removed in v6.0.0. See https://github.com/optuna/optuna/releases/tag/v3.0.0. Use suggest_float(..., log=True) instead.\n",
      "  \"alpha\": trial.suggest_loguniform(\"alpha\", 1e-8, 1.0),\n",
      "c:\\Projects\\Used Car Price prediction\\venv1\\lib\\site-packages\\xgboost\\core.py:158: UserWarning: [11:47:09] WARNING: C:\\buildkite-agent\\builds\\buildkite-windows-cpu-autoscaling-group-i-0015a694724fa8361-1\\xgboost\\xgboost-ci-windows\\src\\learner.cc:740: \n",
      "Parameters: { \"silent\" } are not used.\n",
      "\n",
      "  warnings.warn(smsg, UserWarning)\n"
     ]
    },
    {
     "name": "stdout",
     "output_type": "stream",
     "text": [
      "[0]\tvalidation-rmse:36817.87783\n",
      "[1]\tvalidation-rmse:36159.20403\n",
      "[2]\tvalidation-rmse:35966.97977\n",
      "[3]\tvalidation-rmse:35864.66448\n",
      "[4]\tvalidation-rmse:35795.06946\n",
      "[5]\tvalidation-rmse:35744.56250\n",
      "[6]\tvalidation-rmse:35706.00410\n",
      "[7]\tvalidation-rmse:35676.73325\n",
      "[8]\tvalidation-rmse:35652.02880\n",
      "[9]\tvalidation-rmse:35632.06828\n"
     ]
    },
    {
     "name": "stderr",
     "output_type": "stream",
     "text": [
      "[I 2024-09-14 11:47:13,533] Trial 26 finished with value: 1269644291.0420272 and parameters: {'booster': 'gblinear', 'lambda': 7.472905026895364e-05, 'alpha': 5.407168877856771e-08}. Best is trial 26 with value: 1269644291.0420272.\n",
      "C:\\Users\\sachi\\AppData\\Local\\Temp\\ipykernel_140668\\2378620266.py:10: FutureWarning: suggest_loguniform has been deprecated in v3.0.0. This feature will be removed in v6.0.0. See https://github.com/optuna/optuna/releases/tag/v3.0.0. Use suggest_float(..., log=True) instead.\n",
      "  \"lambda\": trial.suggest_loguniform(\"lambda\", 1e-8, 1.0),\n",
      "C:\\Users\\sachi\\AppData\\Local\\Temp\\ipykernel_140668\\2378620266.py:11: FutureWarning: suggest_loguniform has been deprecated in v3.0.0. This feature will be removed in v6.0.0. See https://github.com/optuna/optuna/releases/tag/v3.0.0. Use suggest_float(..., log=True) instead.\n",
      "  \"alpha\": trial.suggest_loguniform(\"alpha\", 1e-8, 1.0),\n",
      "c:\\Projects\\Used Car Price prediction\\venv1\\lib\\site-packages\\xgboost\\core.py:158: UserWarning: [11:47:26] WARNING: C:\\buildkite-agent\\builds\\buildkite-windows-cpu-autoscaling-group-i-0015a694724fa8361-1\\xgboost\\xgboost-ci-windows\\src\\learner.cc:740: \n",
      "Parameters: { \"silent\" } are not used.\n",
      "\n",
      "  warnings.warn(smsg, UserWarning)\n"
     ]
    },
    {
     "name": "stdout",
     "output_type": "stream",
     "text": [
      "[0]\tvalidation-rmse:36670.07477\n",
      "[1]\tvalidation-rmse:36127.74886\n",
      "[2]\tvalidation-rmse:36000.31199\n",
      "[3]\tvalidation-rmse:35931.94341\n",
      "[4]\tvalidation-rmse:35882.75757\n",
      "[5]\tvalidation-rmse:35840.76693\n",
      "[6]\tvalidation-rmse:35807.19766\n",
      "[7]\tvalidation-rmse:35778.15398\n",
      "[8]\tvalidation-rmse:35754.72988\n",
      "[9]\tvalidation-rmse:35734.01202\n"
     ]
    },
    {
     "name": "stderr",
     "output_type": "stream",
     "text": [
      "[I 2024-09-14 11:47:30,399] Trial 27 finished with value: 1276919609.328351 and parameters: {'booster': 'gblinear', 'lambda': 1.646956803885858e-05, 'alpha': 4.737703982937173e-06}. Best is trial 26 with value: 1269644291.0420272.\n",
      "C:\\Users\\sachi\\AppData\\Local\\Temp\\ipykernel_140668\\2378620266.py:10: FutureWarning: suggest_loguniform has been deprecated in v3.0.0. This feature will be removed in v6.0.0. See https://github.com/optuna/optuna/releases/tag/v3.0.0. Use suggest_float(..., log=True) instead.\n",
      "  \"lambda\": trial.suggest_loguniform(\"lambda\", 1e-8, 1.0),\n",
      "C:\\Users\\sachi\\AppData\\Local\\Temp\\ipykernel_140668\\2378620266.py:11: FutureWarning: suggest_loguniform has been deprecated in v3.0.0. This feature will be removed in v6.0.0. See https://github.com/optuna/optuna/releases/tag/v3.0.0. Use suggest_float(..., log=True) instead.\n",
      "  \"alpha\": trial.suggest_loguniform(\"alpha\", 1e-8, 1.0),\n",
      "C:\\Users\\sachi\\AppData\\Local\\Temp\\ipykernel_140668\\2378620266.py:16: FutureWarning: suggest_loguniform has been deprecated in v3.0.0. This feature will be removed in v6.0.0. See https://github.com/optuna/optuna/releases/tag/v3.0.0. Use suggest_float(..., log=True) instead.\n",
      "  param[\"eta\"] = trial.suggest_loguniform(\"eta\", 1e-8, 1.0)\n",
      "C:\\Users\\sachi\\AppData\\Local\\Temp\\ipykernel_140668\\2378620266.py:17: FutureWarning: suggest_loguniform has been deprecated in v3.0.0. This feature will be removed in v6.0.0. See https://github.com/optuna/optuna/releases/tag/v3.0.0. Use suggest_float(..., log=True) instead.\n",
      "  param[\"gamma\"] = trial.suggest_loguniform(\"gamma\", 1e-8, 1.0)\n",
      "c:\\Projects\\Used Car Price prediction\\venv1\\lib\\site-packages\\xgboost\\core.py:158: UserWarning: [11:47:43] WARNING: C:\\buildkite-agent\\builds\\buildkite-windows-cpu-autoscaling-group-i-0015a694724fa8361-1\\xgboost\\xgboost-ci-windows\\src\\learner.cc:740: \n",
      "Parameters: { \"silent\" } are not used.\n",
      "\n",
      "  warnings.warn(smsg, UserWarning)\n",
      "[I 2024-09-14 11:47:45,787] Trial 28 pruned. Trial was pruned at iteration 0.\n",
      "C:\\Users\\sachi\\AppData\\Local\\Temp\\ipykernel_140668\\2378620266.py:10: FutureWarning: suggest_loguniform has been deprecated in v3.0.0. This feature will be removed in v6.0.0. See https://github.com/optuna/optuna/releases/tag/v3.0.0. Use suggest_float(..., log=True) instead.\n",
      "  \"lambda\": trial.suggest_loguniform(\"lambda\", 1e-8, 1.0),\n",
      "C:\\Users\\sachi\\AppData\\Local\\Temp\\ipykernel_140668\\2378620266.py:11: FutureWarning: suggest_loguniform has been deprecated in v3.0.0. This feature will be removed in v6.0.0. See https://github.com/optuna/optuna/releases/tag/v3.0.0. Use suggest_float(..., log=True) instead.\n",
      "  \"alpha\": trial.suggest_loguniform(\"alpha\", 1e-8, 1.0),\n",
      "C:\\Users\\sachi\\AppData\\Local\\Temp\\ipykernel_140668\\2378620266.py:16: FutureWarning: suggest_loguniform has been deprecated in v3.0.0. This feature will be removed in v6.0.0. See https://github.com/optuna/optuna/releases/tag/v3.0.0. Use suggest_float(..., log=True) instead.\n",
      "  param[\"eta\"] = trial.suggest_loguniform(\"eta\", 1e-8, 1.0)\n",
      "C:\\Users\\sachi\\AppData\\Local\\Temp\\ipykernel_140668\\2378620266.py:17: FutureWarning: suggest_loguniform has been deprecated in v3.0.0. This feature will be removed in v6.0.0. See https://github.com/optuna/optuna/releases/tag/v3.0.0. Use suggest_float(..., log=True) instead.\n",
      "  param[\"gamma\"] = trial.suggest_loguniform(\"gamma\", 1e-8, 1.0)\n",
      "C:\\Users\\sachi\\AppData\\Local\\Temp\\ipykernel_140668\\2378620266.py:22: FutureWarning: suggest_loguniform has been deprecated in v3.0.0. This feature will be removed in v6.0.0. See https://github.com/optuna/optuna/releases/tag/v3.0.0. Use suggest_float(..., log=True) instead.\n",
      "  param[\"rate_drop\"] = trial.suggest_loguniform(\"rate_drop\", 1e-8, 1.0)\n",
      "C:\\Users\\sachi\\AppData\\Local\\Temp\\ipykernel_140668\\2378620266.py:23: FutureWarning: suggest_loguniform has been deprecated in v3.0.0. This feature will be removed in v6.0.0. See https://github.com/optuna/optuna/releases/tag/v3.0.0. Use suggest_float(..., log=True) instead.\n",
      "  param[\"skip_drop\"] = trial.suggest_loguniform(\"skip_drop\", 1e-8, 1.0)\n",
      "c:\\Projects\\Used Car Price prediction\\venv1\\lib\\site-packages\\xgboost\\core.py:158: UserWarning: [11:47:59] WARNING: C:\\buildkite-agent\\builds\\buildkite-windows-cpu-autoscaling-group-i-0015a694724fa8361-1\\xgboost\\xgboost-ci-windows\\src\\learner.cc:740: \n",
      "Parameters: { \"silent\" } are not used.\n",
      "\n",
      "  warnings.warn(smsg, UserWarning)\n",
      "[I 2024-09-14 11:48:01,023] Trial 29 pruned. Trial was pruned at iteration 0.\n",
      "C:\\Users\\sachi\\AppData\\Local\\Temp\\ipykernel_140668\\2378620266.py:10: FutureWarning: suggest_loguniform has been deprecated in v3.0.0. This feature will be removed in v6.0.0. See https://github.com/optuna/optuna/releases/tag/v3.0.0. Use suggest_float(..., log=True) instead.\n",
      "  \"lambda\": trial.suggest_loguniform(\"lambda\", 1e-8, 1.0),\n",
      "C:\\Users\\sachi\\AppData\\Local\\Temp\\ipykernel_140668\\2378620266.py:11: FutureWarning: suggest_loguniform has been deprecated in v3.0.0. This feature will be removed in v6.0.0. See https://github.com/optuna/optuna/releases/tag/v3.0.0. Use suggest_float(..., log=True) instead.\n",
      "  \"alpha\": trial.suggest_loguniform(\"alpha\", 1e-8, 1.0),\n",
      "C:\\Users\\sachi\\AppData\\Local\\Temp\\ipykernel_140668\\2378620266.py:16: FutureWarning: suggest_loguniform has been deprecated in v3.0.0. This feature will be removed in v6.0.0. See https://github.com/optuna/optuna/releases/tag/v3.0.0. Use suggest_float(..., log=True) instead.\n",
      "  param[\"eta\"] = trial.suggest_loguniform(\"eta\", 1e-8, 1.0)\n",
      "C:\\Users\\sachi\\AppData\\Local\\Temp\\ipykernel_140668\\2378620266.py:17: FutureWarning: suggest_loguniform has been deprecated in v3.0.0. This feature will be removed in v6.0.0. See https://github.com/optuna/optuna/releases/tag/v3.0.0. Use suggest_float(..., log=True) instead.\n",
      "  param[\"gamma\"] = trial.suggest_loguniform(\"gamma\", 1e-8, 1.0)\n",
      "C:\\Users\\sachi\\AppData\\Local\\Temp\\ipykernel_140668\\2378620266.py:22: FutureWarning: suggest_loguniform has been deprecated in v3.0.0. This feature will be removed in v6.0.0. See https://github.com/optuna/optuna/releases/tag/v3.0.0. Use suggest_float(..., log=True) instead.\n",
      "  param[\"rate_drop\"] = trial.suggest_loguniform(\"rate_drop\", 1e-8, 1.0)\n",
      "C:\\Users\\sachi\\AppData\\Local\\Temp\\ipykernel_140668\\2378620266.py:23: FutureWarning: suggest_loguniform has been deprecated in v3.0.0. This feature will be removed in v6.0.0. See https://github.com/optuna/optuna/releases/tag/v3.0.0. Use suggest_float(..., log=True) instead.\n",
      "  param[\"skip_drop\"] = trial.suggest_loguniform(\"skip_drop\", 1e-8, 1.0)\n",
      "c:\\Projects\\Used Car Price prediction\\venv1\\lib\\site-packages\\xgboost\\core.py:158: UserWarning: [11:48:14] WARNING: C:\\buildkite-agent\\builds\\buildkite-windows-cpu-autoscaling-group-i-0015a694724fa8361-1\\xgboost\\xgboost-ci-windows\\src\\learner.cc:740: \n",
      "Parameters: { \"silent\" } are not used.\n",
      "\n",
      "  warnings.warn(smsg, UserWarning)\n",
      "[I 2024-09-14 11:48:15,593] Trial 30 pruned. Trial was pruned at iteration 0.\n",
      "C:\\Users\\sachi\\AppData\\Local\\Temp\\ipykernel_140668\\2378620266.py:10: FutureWarning: suggest_loguniform has been deprecated in v3.0.0. This feature will be removed in v6.0.0. See https://github.com/optuna/optuna/releases/tag/v3.0.0. Use suggest_float(..., log=True) instead.\n",
      "  \"lambda\": trial.suggest_loguniform(\"lambda\", 1e-8, 1.0),\n",
      "C:\\Users\\sachi\\AppData\\Local\\Temp\\ipykernel_140668\\2378620266.py:11: FutureWarning: suggest_loguniform has been deprecated in v3.0.0. This feature will be removed in v6.0.0. See https://github.com/optuna/optuna/releases/tag/v3.0.0. Use suggest_float(..., log=True) instead.\n",
      "  \"alpha\": trial.suggest_loguniform(\"alpha\", 1e-8, 1.0),\n",
      "c:\\Projects\\Used Car Price prediction\\venv1\\lib\\site-packages\\xgboost\\core.py:158: UserWarning: [11:48:29] WARNING: C:\\buildkite-agent\\builds\\buildkite-windows-cpu-autoscaling-group-i-0015a694724fa8361-1\\xgboost\\xgboost-ci-windows\\src\\learner.cc:740: \n",
      "Parameters: { \"silent\" } are not used.\n",
      "\n",
      "  warnings.warn(smsg, UserWarning)\n",
      "[I 2024-09-14 11:48:30,434] Trial 31 pruned. Trial was pruned at iteration 0.\n",
      "C:\\Users\\sachi\\AppData\\Local\\Temp\\ipykernel_140668\\2378620266.py:10: FutureWarning: suggest_loguniform has been deprecated in v3.0.0. This feature will be removed in v6.0.0. See https://github.com/optuna/optuna/releases/tag/v3.0.0. Use suggest_float(..., log=True) instead.\n",
      "  \"lambda\": trial.suggest_loguniform(\"lambda\", 1e-8, 1.0),\n",
      "C:\\Users\\sachi\\AppData\\Local\\Temp\\ipykernel_140668\\2378620266.py:11: FutureWarning: suggest_loguniform has been deprecated in v3.0.0. This feature will be removed in v6.0.0. See https://github.com/optuna/optuna/releases/tag/v3.0.0. Use suggest_float(..., log=True) instead.\n",
      "  \"alpha\": trial.suggest_loguniform(\"alpha\", 1e-8, 1.0),\n",
      "c:\\Projects\\Used Car Price prediction\\venv1\\lib\\site-packages\\xgboost\\core.py:158: UserWarning: [11:48:47] WARNING: C:\\buildkite-agent\\builds\\buildkite-windows-cpu-autoscaling-group-i-0015a694724fa8361-1\\xgboost\\xgboost-ci-windows\\src\\learner.cc:740: \n",
      "Parameters: { \"silent\" } are not used.\n",
      "\n",
      "  warnings.warn(smsg, UserWarning)\n"
     ]
    },
    {
     "name": "stdout",
     "output_type": "stream",
     "text": [
      "[0]\tvalidation-rmse:36664.13477\n",
      "[1]\tvalidation-rmse:36140.26028\n",
      "[2]\tvalidation-rmse:36015.81988\n",
      "[3]\tvalidation-rmse:35952.14603\n",
      "[4]\tvalidation-rmse:35903.41753\n",
      "[5]\tvalidation-rmse:35864.11489\n",
      "[6]\tvalidation-rmse:35830.30350\n",
      "[7]\tvalidation-rmse:35802.12054\n",
      "[8]\tvalidation-rmse:35778.49786\n",
      "[9]\tvalidation-rmse:35758.46731\n"
     ]
    },
    {
     "name": "stderr",
     "output_type": "stream",
     "text": [
      "[I 2024-09-14 11:48:52,087] Trial 32 finished with value: 1278667986.0666244 and parameters: {'booster': 'gblinear', 'lambda': 1.075086523893549e-05, 'alpha': 4.448534594529625e-08}. Best is trial 26 with value: 1269644291.0420272.\n",
      "C:\\Users\\sachi\\AppData\\Local\\Temp\\ipykernel_140668\\2378620266.py:10: FutureWarning: suggest_loguniform has been deprecated in v3.0.0. This feature will be removed in v6.0.0. See https://github.com/optuna/optuna/releases/tag/v3.0.0. Use suggest_float(..., log=True) instead.\n",
      "  \"lambda\": trial.suggest_loguniform(\"lambda\", 1e-8, 1.0),\n",
      "C:\\Users\\sachi\\AppData\\Local\\Temp\\ipykernel_140668\\2378620266.py:11: FutureWarning: suggest_loguniform has been deprecated in v3.0.0. This feature will be removed in v6.0.0. See https://github.com/optuna/optuna/releases/tag/v3.0.0. Use suggest_float(..., log=True) instead.\n",
      "  \"alpha\": trial.suggest_loguniform(\"alpha\", 1e-8, 1.0),\n",
      "c:\\Projects\\Used Car Price prediction\\venv1\\lib\\site-packages\\xgboost\\core.py:158: UserWarning: [11:49:06] WARNING: C:\\buildkite-agent\\builds\\buildkite-windows-cpu-autoscaling-group-i-0015a694724fa8361-1\\xgboost\\xgboost-ci-windows\\src\\learner.cc:740: \n",
      "Parameters: { \"silent\" } are not used.\n",
      "\n",
      "  warnings.warn(smsg, UserWarning)\n",
      "[I 2024-09-14 11:49:07,597] Trial 33 pruned. Trial was pruned at iteration 0.\n",
      "C:\\Users\\sachi\\AppData\\Local\\Temp\\ipykernel_140668\\2378620266.py:10: FutureWarning: suggest_loguniform has been deprecated in v3.0.0. This feature will be removed in v6.0.0. See https://github.com/optuna/optuna/releases/tag/v3.0.0. Use suggest_float(..., log=True) instead.\n",
      "  \"lambda\": trial.suggest_loguniform(\"lambda\", 1e-8, 1.0),\n",
      "C:\\Users\\sachi\\AppData\\Local\\Temp\\ipykernel_140668\\2378620266.py:11: FutureWarning: suggest_loguniform has been deprecated in v3.0.0. This feature will be removed in v6.0.0. See https://github.com/optuna/optuna/releases/tag/v3.0.0. Use suggest_float(..., log=True) instead.\n",
      "  \"alpha\": trial.suggest_loguniform(\"alpha\", 1e-8, 1.0),\n",
      "c:\\Projects\\Used Car Price prediction\\venv1\\lib\\site-packages\\xgboost\\core.py:158: UserWarning: [11:49:24] WARNING: C:\\buildkite-agent\\builds\\buildkite-windows-cpu-autoscaling-group-i-0015a694724fa8361-1\\xgboost\\xgboost-ci-windows\\src\\learner.cc:740: \n",
      "Parameters: { \"silent\" } are not used.\n",
      "\n",
      "  warnings.warn(smsg, UserWarning)\n"
     ]
    },
    {
     "name": "stdout",
     "output_type": "stream",
     "text": [
      "[0]\tvalidation-rmse:37277.92793\n"
     ]
    },
    {
     "name": "stderr",
     "output_type": "stream",
     "text": [
      "[I 2024-09-14 11:49:25,592] Trial 34 pruned. Trial was pruned at iteration 0.\n",
      "C:\\Users\\sachi\\AppData\\Local\\Temp\\ipykernel_140668\\2378620266.py:10: FutureWarning: suggest_loguniform has been deprecated in v3.0.0. This feature will be removed in v6.0.0. See https://github.com/optuna/optuna/releases/tag/v3.0.0. Use suggest_float(..., log=True) instead.\n",
      "  \"lambda\": trial.suggest_loguniform(\"lambda\", 1e-8, 1.0),\n",
      "C:\\Users\\sachi\\AppData\\Local\\Temp\\ipykernel_140668\\2378620266.py:11: FutureWarning: suggest_loguniform has been deprecated in v3.0.0. This feature will be removed in v6.0.0. See https://github.com/optuna/optuna/releases/tag/v3.0.0. Use suggest_float(..., log=True) instead.\n",
      "  \"alpha\": trial.suggest_loguniform(\"alpha\", 1e-8, 1.0),\n",
      "c:\\Projects\\Used Car Price prediction\\venv1\\lib\\site-packages\\xgboost\\core.py:158: UserWarning: [11:49:38] WARNING: C:\\buildkite-agent\\builds\\buildkite-windows-cpu-autoscaling-group-i-0015a694724fa8361-1\\xgboost\\xgboost-ci-windows\\src\\learner.cc:740: \n",
      "Parameters: { \"silent\" } are not used.\n",
      "\n",
      "  warnings.warn(smsg, UserWarning)\n",
      "[I 2024-09-14 11:49:40,041] Trial 35 pruned. Trial was pruned at iteration 0.\n",
      "C:\\Users\\sachi\\AppData\\Local\\Temp\\ipykernel_140668\\2378620266.py:10: FutureWarning: suggest_loguniform has been deprecated in v3.0.0. This feature will be removed in v6.0.0. See https://github.com/optuna/optuna/releases/tag/v3.0.0. Use suggest_float(..., log=True) instead.\n",
      "  \"lambda\": trial.suggest_loguniform(\"lambda\", 1e-8, 1.0),\n",
      "C:\\Users\\sachi\\AppData\\Local\\Temp\\ipykernel_140668\\2378620266.py:11: FutureWarning: suggest_loguniform has been deprecated in v3.0.0. This feature will be removed in v6.0.0. See https://github.com/optuna/optuna/releases/tag/v3.0.0. Use suggest_float(..., log=True) instead.\n",
      "  \"alpha\": trial.suggest_loguniform(\"alpha\", 1e-8, 1.0),\n",
      "C:\\Users\\sachi\\AppData\\Local\\Temp\\ipykernel_140668\\2378620266.py:16: FutureWarning: suggest_loguniform has been deprecated in v3.0.0. This feature will be removed in v6.0.0. See https://github.com/optuna/optuna/releases/tag/v3.0.0. Use suggest_float(..., log=True) instead.\n",
      "  param[\"eta\"] = trial.suggest_loguniform(\"eta\", 1e-8, 1.0)\n",
      "C:\\Users\\sachi\\AppData\\Local\\Temp\\ipykernel_140668\\2378620266.py:17: FutureWarning: suggest_loguniform has been deprecated in v3.0.0. This feature will be removed in v6.0.0. See https://github.com/optuna/optuna/releases/tag/v3.0.0. Use suggest_float(..., log=True) instead.\n",
      "  param[\"gamma\"] = trial.suggest_loguniform(\"gamma\", 1e-8, 1.0)\n",
      "C:\\Users\\sachi\\AppData\\Local\\Temp\\ipykernel_140668\\2378620266.py:22: FutureWarning: suggest_loguniform has been deprecated in v3.0.0. This feature will be removed in v6.0.0. See https://github.com/optuna/optuna/releases/tag/v3.0.0. Use suggest_float(..., log=True) instead.\n",
      "  param[\"rate_drop\"] = trial.suggest_loguniform(\"rate_drop\", 1e-8, 1.0)\n",
      "C:\\Users\\sachi\\AppData\\Local\\Temp\\ipykernel_140668\\2378620266.py:23: FutureWarning: suggest_loguniform has been deprecated in v3.0.0. This feature will be removed in v6.0.0. See https://github.com/optuna/optuna/releases/tag/v3.0.0. Use suggest_float(..., log=True) instead.\n",
      "  param[\"skip_drop\"] = trial.suggest_loguniform(\"skip_drop\", 1e-8, 1.0)\n",
      "c:\\Projects\\Used Car Price prediction\\venv1\\lib\\site-packages\\xgboost\\core.py:158: UserWarning: [11:49:56] WARNING: C:\\buildkite-agent\\builds\\buildkite-windows-cpu-autoscaling-group-i-0015a694724fa8361-1\\xgboost\\xgboost-ci-windows\\src\\learner.cc:740: \n",
      "Parameters: { \"silent\" } are not used.\n",
      "\n",
      "  warnings.warn(smsg, UserWarning)\n",
      "[I 2024-09-14 11:49:58,764] Trial 36 pruned. Trial was pruned at iteration 0.\n",
      "C:\\Users\\sachi\\AppData\\Local\\Temp\\ipykernel_140668\\2378620266.py:10: FutureWarning: suggest_loguniform has been deprecated in v3.0.0. This feature will be removed in v6.0.0. See https://github.com/optuna/optuna/releases/tag/v3.0.0. Use suggest_float(..., log=True) instead.\n",
      "  \"lambda\": trial.suggest_loguniform(\"lambda\", 1e-8, 1.0),\n",
      "C:\\Users\\sachi\\AppData\\Local\\Temp\\ipykernel_140668\\2378620266.py:11: FutureWarning: suggest_loguniform has been deprecated in v3.0.0. This feature will be removed in v6.0.0. See https://github.com/optuna/optuna/releases/tag/v3.0.0. Use suggest_float(..., log=True) instead.\n",
      "  \"alpha\": trial.suggest_loguniform(\"alpha\", 1e-8, 1.0),\n",
      "c:\\Projects\\Used Car Price prediction\\venv1\\lib\\site-packages\\xgboost\\core.py:158: UserWarning: [11:50:13] WARNING: C:\\buildkite-agent\\builds\\buildkite-windows-cpu-autoscaling-group-i-0015a694724fa8361-1\\xgboost\\xgboost-ci-windows\\src\\learner.cc:740: \n",
      "Parameters: { \"silent\" } are not used.\n",
      "\n",
      "  warnings.warn(smsg, UserWarning)\n"
     ]
    },
    {
     "name": "stdout",
     "output_type": "stream",
     "text": [
      "[0]\tvalidation-rmse:36751.14637\n"
     ]
    },
    {
     "name": "stderr",
     "output_type": "stream",
     "text": [
      "[I 2024-09-14 11:50:14,901] Trial 37 pruned. Trial was pruned at iteration 1.\n",
      "C:\\Users\\sachi\\AppData\\Local\\Temp\\ipykernel_140668\\2378620266.py:10: FutureWarning: suggest_loguniform has been deprecated in v3.0.0. This feature will be removed in v6.0.0. See https://github.com/optuna/optuna/releases/tag/v3.0.0. Use suggest_float(..., log=True) instead.\n",
      "  \"lambda\": trial.suggest_loguniform(\"lambda\", 1e-8, 1.0),\n",
      "C:\\Users\\sachi\\AppData\\Local\\Temp\\ipykernel_140668\\2378620266.py:11: FutureWarning: suggest_loguniform has been deprecated in v3.0.0. This feature will be removed in v6.0.0. See https://github.com/optuna/optuna/releases/tag/v3.0.0. Use suggest_float(..., log=True) instead.\n",
      "  \"alpha\": trial.suggest_loguniform(\"alpha\", 1e-8, 1.0),\n",
      "C:\\Users\\sachi\\AppData\\Local\\Temp\\ipykernel_140668\\2378620266.py:16: FutureWarning: suggest_loguniform has been deprecated in v3.0.0. This feature will be removed in v6.0.0. See https://github.com/optuna/optuna/releases/tag/v3.0.0. Use suggest_float(..., log=True) instead.\n",
      "  param[\"eta\"] = trial.suggest_loguniform(\"eta\", 1e-8, 1.0)\n",
      "C:\\Users\\sachi\\AppData\\Local\\Temp\\ipykernel_140668\\2378620266.py:17: FutureWarning: suggest_loguniform has been deprecated in v3.0.0. This feature will be removed in v6.0.0. See https://github.com/optuna/optuna/releases/tag/v3.0.0. Use suggest_float(..., log=True) instead.\n",
      "  param[\"gamma\"] = trial.suggest_loguniform(\"gamma\", 1e-8, 1.0)\n",
      "c:\\Projects\\Used Car Price prediction\\venv1\\lib\\site-packages\\xgboost\\core.py:158: UserWarning: [11:50:31] WARNING: C:\\buildkite-agent\\builds\\buildkite-windows-cpu-autoscaling-group-i-0015a694724fa8361-1\\xgboost\\xgboost-ci-windows\\src\\learner.cc:740: \n",
      "Parameters: { \"silent\" } are not used.\n",
      "\n",
      "  warnings.warn(smsg, UserWarning)\n"
     ]
    },
    {
     "name": "stdout",
     "output_type": "stream",
     "text": [
      "[0]\tvalidation-rmse:43739.31383\n"
     ]
    },
    {
     "name": "stderr",
     "output_type": "stream",
     "text": [
      "[I 2024-09-14 11:50:32,969] Trial 38 pruned. Trial was pruned at iteration 0.\n",
      "C:\\Users\\sachi\\AppData\\Local\\Temp\\ipykernel_140668\\2378620266.py:10: FutureWarning: suggest_loguniform has been deprecated in v3.0.0. This feature will be removed in v6.0.0. See https://github.com/optuna/optuna/releases/tag/v3.0.0. Use suggest_float(..., log=True) instead.\n",
      "  \"lambda\": trial.suggest_loguniform(\"lambda\", 1e-8, 1.0),\n",
      "C:\\Users\\sachi\\AppData\\Local\\Temp\\ipykernel_140668\\2378620266.py:11: FutureWarning: suggest_loguniform has been deprecated in v3.0.0. This feature will be removed in v6.0.0. See https://github.com/optuna/optuna/releases/tag/v3.0.0. Use suggest_float(..., log=True) instead.\n",
      "  \"alpha\": trial.suggest_loguniform(\"alpha\", 1e-8, 1.0),\n",
      "c:\\Projects\\Used Car Price prediction\\venv1\\lib\\site-packages\\xgboost\\core.py:158: UserWarning: [11:50:47] WARNING: C:\\buildkite-agent\\builds\\buildkite-windows-cpu-autoscaling-group-i-0015a694724fa8361-1\\xgboost\\xgboost-ci-windows\\src\\learner.cc:740: \n",
      "Parameters: { \"silent\" } are not used.\n",
      "\n",
      "  warnings.warn(smsg, UserWarning)\n"
     ]
    },
    {
     "name": "stdout",
     "output_type": "stream",
     "text": [
      "[0]\tvalidation-rmse:36832.55152\n",
      "[1]\tvalidation-rmse:36164.39645\n",
      "[2]\tvalidation-rmse:35971.48433\n",
      "[3]\tvalidation-rmse:35866.89945\n",
      "[4]\tvalidation-rmse:35797.75723\n",
      "[5]\tvalidation-rmse:35747.00521\n",
      "[6]\tvalidation-rmse:35709.53697\n",
      "[7]\tvalidation-rmse:35679.35096\n",
      "[8]\tvalidation-rmse:35654.50297\n",
      "[9]\tvalidation-rmse:35635.25383\n"
     ]
    },
    {
     "name": "stderr",
     "output_type": "stream",
     "text": [
      "[I 2024-09-14 11:50:51,754] Trial 39 finished with value: 1269871315.7035673 and parameters: {'booster': 'gblinear', 'lambda': 9.939155126988477e-05, 'alpha': 3.536452479526515e-08}. Best is trial 26 with value: 1269644291.0420272.\n",
      "C:\\Users\\sachi\\AppData\\Local\\Temp\\ipykernel_140668\\2378620266.py:10: FutureWarning: suggest_loguniform has been deprecated in v3.0.0. This feature will be removed in v6.0.0. See https://github.com/optuna/optuna/releases/tag/v3.0.0. Use suggest_float(..., log=True) instead.\n",
      "  \"lambda\": trial.suggest_loguniform(\"lambda\", 1e-8, 1.0),\n",
      "C:\\Users\\sachi\\AppData\\Local\\Temp\\ipykernel_140668\\2378620266.py:11: FutureWarning: suggest_loguniform has been deprecated in v3.0.0. This feature will be removed in v6.0.0. See https://github.com/optuna/optuna/releases/tag/v3.0.0. Use suggest_float(..., log=True) instead.\n",
      "  \"alpha\": trial.suggest_loguniform(\"alpha\", 1e-8, 1.0),\n",
      "c:\\Projects\\Used Car Price prediction\\venv1\\lib\\site-packages\\xgboost\\core.py:158: UserWarning: [11:51:06] WARNING: C:\\buildkite-agent\\builds\\buildkite-windows-cpu-autoscaling-group-i-0015a694724fa8361-1\\xgboost\\xgboost-ci-windows\\src\\learner.cc:740: \n",
      "Parameters: { \"silent\" } are not used.\n",
      "\n",
      "  warnings.warn(smsg, UserWarning)\n"
     ]
    },
    {
     "name": "stdout",
     "output_type": "stream",
     "text": [
      "[0]\tvalidation-rmse:36732.18262\n",
      "[1]\tvalidation-rmse:36131.21091\n",
      "[2]\tvalidation-rmse:35970.77818\n",
      "[3]\tvalidation-rmse:35883.87414\n",
      "[4]\tvalidation-rmse:35823.44725\n",
      "[5]\tvalidation-rmse:35776.91474\n",
      "[6]\tvalidation-rmse:35740.61924\n",
      "[7]\tvalidation-rmse:35711.17910\n",
      "[8]\tvalidation-rmse:35687.20533\n",
      "[9]\tvalidation-rmse:35667.23370\n"
     ]
    },
    {
     "name": "stderr",
     "output_type": "stream",
     "text": [
      "[I 2024-09-14 11:51:10,865] Trial 40 finished with value: 1272151557.0385144 and parameters: {'booster': 'gblinear', 'lambda': 4.1107993882947755e-05, 'alpha': 0.07051375303202209}. Best is trial 26 with value: 1269644291.0420272.\n",
      "C:\\Users\\sachi\\AppData\\Local\\Temp\\ipykernel_140668\\2378620266.py:10: FutureWarning: suggest_loguniform has been deprecated in v3.0.0. This feature will be removed in v6.0.0. See https://github.com/optuna/optuna/releases/tag/v3.0.0. Use suggest_float(..., log=True) instead.\n",
      "  \"lambda\": trial.suggest_loguniform(\"lambda\", 1e-8, 1.0),\n",
      "C:\\Users\\sachi\\AppData\\Local\\Temp\\ipykernel_140668\\2378620266.py:11: FutureWarning: suggest_loguniform has been deprecated in v3.0.0. This feature will be removed in v6.0.0. See https://github.com/optuna/optuna/releases/tag/v3.0.0. Use suggest_float(..., log=True) instead.\n",
      "  \"alpha\": trial.suggest_loguniform(\"alpha\", 1e-8, 1.0),\n",
      "c:\\Projects\\Used Car Price prediction\\venv1\\lib\\site-packages\\xgboost\\core.py:158: UserWarning: [11:51:24] WARNING: C:\\buildkite-agent\\builds\\buildkite-windows-cpu-autoscaling-group-i-0015a694724fa8361-1\\xgboost\\xgboost-ci-windows\\src\\learner.cc:740: \n",
      "Parameters: { \"silent\" } are not used.\n",
      "\n",
      "  warnings.warn(smsg, UserWarning)\n",
      "[I 2024-09-14 11:51:26,109] Trial 41 pruned. Trial was pruned at iteration 0.\n",
      "C:\\Users\\sachi\\AppData\\Local\\Temp\\ipykernel_140668\\2378620266.py:10: FutureWarning: suggest_loguniform has been deprecated in v3.0.0. This feature will be removed in v6.0.0. See https://github.com/optuna/optuna/releases/tag/v3.0.0. Use suggest_float(..., log=True) instead.\n",
      "  \"lambda\": trial.suggest_loguniform(\"lambda\", 1e-8, 1.0),\n",
      "C:\\Users\\sachi\\AppData\\Local\\Temp\\ipykernel_140668\\2378620266.py:11: FutureWarning: suggest_loguniform has been deprecated in v3.0.0. This feature will be removed in v6.0.0. See https://github.com/optuna/optuna/releases/tag/v3.0.0. Use suggest_float(..., log=True) instead.\n",
      "  \"alpha\": trial.suggest_loguniform(\"alpha\", 1e-8, 1.0),\n",
      "c:\\Projects\\Used Car Price prediction\\venv1\\lib\\site-packages\\xgboost\\core.py:158: UserWarning: [11:51:45] WARNING: C:\\buildkite-agent\\builds\\buildkite-windows-cpu-autoscaling-group-i-0015a694724fa8361-1\\xgboost\\xgboost-ci-windows\\src\\learner.cc:740: \n",
      "Parameters: { \"silent\" } are not used.\n",
      "\n",
      "  warnings.warn(smsg, UserWarning)\n",
      "[I 2024-09-14 11:51:46,861] Trial 42 pruned. Trial was pruned at iteration 0.\n",
      "C:\\Users\\sachi\\AppData\\Local\\Temp\\ipykernel_140668\\2378620266.py:10: FutureWarning: suggest_loguniform has been deprecated in v3.0.0. This feature will be removed in v6.0.0. See https://github.com/optuna/optuna/releases/tag/v3.0.0. Use suggest_float(..., log=True) instead.\n",
      "  \"lambda\": trial.suggest_loguniform(\"lambda\", 1e-8, 1.0),\n",
      "C:\\Users\\sachi\\AppData\\Local\\Temp\\ipykernel_140668\\2378620266.py:11: FutureWarning: suggest_loguniform has been deprecated in v3.0.0. This feature will be removed in v6.0.0. See https://github.com/optuna/optuna/releases/tag/v3.0.0. Use suggest_float(..., log=True) instead.\n",
      "  \"alpha\": trial.suggest_loguniform(\"alpha\", 1e-8, 1.0),\n",
      "c:\\Projects\\Used Car Price prediction\\venv1\\lib\\site-packages\\xgboost\\core.py:158: UserWarning: [11:52:02] WARNING: C:\\buildkite-agent\\builds\\buildkite-windows-cpu-autoscaling-group-i-0015a694724fa8361-1\\xgboost\\xgboost-ci-windows\\src\\learner.cc:740: \n",
      "Parameters: { \"silent\" } are not used.\n",
      "\n",
      "  warnings.warn(smsg, UserWarning)\n"
     ]
    },
    {
     "name": "stdout",
     "output_type": "stream",
     "text": [
      "[0]\tvalidation-rmse:37906.30606\n"
     ]
    },
    {
     "name": "stderr",
     "output_type": "stream",
     "text": [
      "[I 2024-09-14 11:52:03,529] Trial 43 pruned. Trial was pruned at iteration 0.\n",
      "C:\\Users\\sachi\\AppData\\Local\\Temp\\ipykernel_140668\\2378620266.py:10: FutureWarning: suggest_loguniform has been deprecated in v3.0.0. This feature will be removed in v6.0.0. See https://github.com/optuna/optuna/releases/tag/v3.0.0. Use suggest_float(..., log=True) instead.\n",
      "  \"lambda\": trial.suggest_loguniform(\"lambda\", 1e-8, 1.0),\n",
      "C:\\Users\\sachi\\AppData\\Local\\Temp\\ipykernel_140668\\2378620266.py:11: FutureWarning: suggest_loguniform has been deprecated in v3.0.0. This feature will be removed in v6.0.0. See https://github.com/optuna/optuna/releases/tag/v3.0.0. Use suggest_float(..., log=True) instead.\n",
      "  \"alpha\": trial.suggest_loguniform(\"alpha\", 1e-8, 1.0),\n",
      "c:\\Projects\\Used Car Price prediction\\venv1\\lib\\site-packages\\xgboost\\core.py:158: UserWarning: [11:52:17] WARNING: C:\\buildkite-agent\\builds\\buildkite-windows-cpu-autoscaling-group-i-0015a694724fa8361-1\\xgboost\\xgboost-ci-windows\\src\\learner.cc:740: \n",
      "Parameters: { \"silent\" } are not used.\n",
      "\n",
      "  warnings.warn(smsg, UserWarning)\n"
     ]
    },
    {
     "name": "stdout",
     "output_type": "stream",
     "text": [
      "[0]\tvalidation-rmse:36689.50177\n",
      "[1]\tvalidation-rmse:36128.23930\n",
      "[2]\tvalidation-rmse:35993.25767\n",
      "[3]\tvalidation-rmse:35915.86034\n",
      "[4]\tvalidation-rmse:35861.88640\n",
      "[5]\tvalidation-rmse:35819.46451\n",
      "[6]\tvalidation-rmse:35785.64181\n",
      "[7]\tvalidation-rmse:35755.76364\n",
      "[8]\tvalidation-rmse:35731.31899\n",
      "[9]\tvalidation-rmse:35711.15388\n"
     ]
    },
    {
     "name": "stderr",
     "output_type": "stream",
     "text": [
      "[I 2024-09-14 11:52:21,432] Trial 44 finished with value: 1275286506.5294878 and parameters: {'booster': 'gblinear', 'lambda': 2.4046544995872175e-05, 'alpha': 2.366517426622417e-08}. Best is trial 26 with value: 1269644291.0420272.\n",
      "C:\\Users\\sachi\\AppData\\Local\\Temp\\ipykernel_140668\\2378620266.py:10: FutureWarning: suggest_loguniform has been deprecated in v3.0.0. This feature will be removed in v6.0.0. See https://github.com/optuna/optuna/releases/tag/v3.0.0. Use suggest_float(..., log=True) instead.\n",
      "  \"lambda\": trial.suggest_loguniform(\"lambda\", 1e-8, 1.0),\n",
      "C:\\Users\\sachi\\AppData\\Local\\Temp\\ipykernel_140668\\2378620266.py:11: FutureWarning: suggest_loguniform has been deprecated in v3.0.0. This feature will be removed in v6.0.0. See https://github.com/optuna/optuna/releases/tag/v3.0.0. Use suggest_float(..., log=True) instead.\n",
      "  \"alpha\": trial.suggest_loguniform(\"alpha\", 1e-8, 1.0),\n",
      "C:\\Users\\sachi\\AppData\\Local\\Temp\\ipykernel_140668\\2378620266.py:16: FutureWarning: suggest_loguniform has been deprecated in v3.0.0. This feature will be removed in v6.0.0. See https://github.com/optuna/optuna/releases/tag/v3.0.0. Use suggest_float(..., log=True) instead.\n",
      "  param[\"eta\"] = trial.suggest_loguniform(\"eta\", 1e-8, 1.0)\n",
      "C:\\Users\\sachi\\AppData\\Local\\Temp\\ipykernel_140668\\2378620266.py:17: FutureWarning: suggest_loguniform has been deprecated in v3.0.0. This feature will be removed in v6.0.0. See https://github.com/optuna/optuna/releases/tag/v3.0.0. Use suggest_float(..., log=True) instead.\n",
      "  param[\"gamma\"] = trial.suggest_loguniform(\"gamma\", 1e-8, 1.0)\n",
      "c:\\Projects\\Used Car Price prediction\\venv1\\lib\\site-packages\\xgboost\\core.py:158: UserWarning: [11:52:33] WARNING: C:\\buildkite-agent\\builds\\buildkite-windows-cpu-autoscaling-group-i-0015a694724fa8361-1\\xgboost\\xgboost-ci-windows\\src\\learner.cc:740: \n",
      "Parameters: { \"silent\" } are not used.\n",
      "\n",
      "  warnings.warn(smsg, UserWarning)\n"
     ]
    },
    {
     "name": "stdout",
     "output_type": "stream",
     "text": [
      "[0]\tvalidation-rmse:44083.28528\n"
     ]
    },
    {
     "name": "stderr",
     "output_type": "stream",
     "text": [
      "[I 2024-09-14 11:52:35,468] Trial 45 pruned. Trial was pruned at iteration 0.\n",
      "C:\\Users\\sachi\\AppData\\Local\\Temp\\ipykernel_140668\\2378620266.py:10: FutureWarning: suggest_loguniform has been deprecated in v3.0.0. This feature will be removed in v6.0.0. See https://github.com/optuna/optuna/releases/tag/v3.0.0. Use suggest_float(..., log=True) instead.\n",
      "  \"lambda\": trial.suggest_loguniform(\"lambda\", 1e-8, 1.0),\n",
      "C:\\Users\\sachi\\AppData\\Local\\Temp\\ipykernel_140668\\2378620266.py:11: FutureWarning: suggest_loguniform has been deprecated in v3.0.0. This feature will be removed in v6.0.0. See https://github.com/optuna/optuna/releases/tag/v3.0.0. Use suggest_float(..., log=True) instead.\n",
      "  \"alpha\": trial.suggest_loguniform(\"alpha\", 1e-8, 1.0),\n",
      "c:\\Projects\\Used Car Price prediction\\venv1\\lib\\site-packages\\xgboost\\core.py:158: UserWarning: [11:52:47] WARNING: C:\\buildkite-agent\\builds\\buildkite-windows-cpu-autoscaling-group-i-0015a694724fa8361-1\\xgboost\\xgboost-ci-windows\\src\\learner.cc:740: \n",
      "Parameters: { \"silent\" } are not used.\n",
      "\n",
      "  warnings.warn(smsg, UserWarning)\n"
     ]
    },
    {
     "name": "stdout",
     "output_type": "stream",
     "text": [
      "[0]\tvalidation-rmse:39369.55805\n"
     ]
    },
    {
     "name": "stderr",
     "output_type": "stream",
     "text": [
      "[I 2024-09-14 11:52:49,065] Trial 46 pruned. Trial was pruned at iteration 0.\n",
      "C:\\Users\\sachi\\AppData\\Local\\Temp\\ipykernel_140668\\2378620266.py:10: FutureWarning: suggest_loguniform has been deprecated in v3.0.0. This feature will be removed in v6.0.0. See https://github.com/optuna/optuna/releases/tag/v3.0.0. Use suggest_float(..., log=True) instead.\n",
      "  \"lambda\": trial.suggest_loguniform(\"lambda\", 1e-8, 1.0),\n",
      "C:\\Users\\sachi\\AppData\\Local\\Temp\\ipykernel_140668\\2378620266.py:11: FutureWarning: suggest_loguniform has been deprecated in v3.0.0. This feature will be removed in v6.0.0. See https://github.com/optuna/optuna/releases/tag/v3.0.0. Use suggest_float(..., log=True) instead.\n",
      "  \"alpha\": trial.suggest_loguniform(\"alpha\", 1e-8, 1.0),\n",
      "c:\\Projects\\Used Car Price prediction\\venv1\\lib\\site-packages\\xgboost\\core.py:158: UserWarning: [11:53:05] WARNING: C:\\buildkite-agent\\builds\\buildkite-windows-cpu-autoscaling-group-i-0015a694724fa8361-1\\xgboost\\xgboost-ci-windows\\src\\learner.cc:740: \n",
      "Parameters: { \"silent\" } are not used.\n",
      "\n",
      "  warnings.warn(smsg, UserWarning)\n",
      "[I 2024-09-14 11:53:06,334] Trial 47 pruned. Trial was pruned at iteration 0.\n",
      "C:\\Users\\sachi\\AppData\\Local\\Temp\\ipykernel_140668\\2378620266.py:10: FutureWarning: suggest_loguniform has been deprecated in v3.0.0. This feature will be removed in v6.0.0. See https://github.com/optuna/optuna/releases/tag/v3.0.0. Use suggest_float(..., log=True) instead.\n",
      "  \"lambda\": trial.suggest_loguniform(\"lambda\", 1e-8, 1.0),\n",
      "C:\\Users\\sachi\\AppData\\Local\\Temp\\ipykernel_140668\\2378620266.py:11: FutureWarning: suggest_loguniform has been deprecated in v3.0.0. This feature will be removed in v6.0.0. See https://github.com/optuna/optuna/releases/tag/v3.0.0. Use suggest_float(..., log=True) instead.\n",
      "  \"alpha\": trial.suggest_loguniform(\"alpha\", 1e-8, 1.0),\n",
      "c:\\Projects\\Used Car Price prediction\\venv1\\lib\\site-packages\\xgboost\\core.py:158: UserWarning: [11:53:22] WARNING: C:\\buildkite-agent\\builds\\buildkite-windows-cpu-autoscaling-group-i-0015a694724fa8361-1\\xgboost\\xgboost-ci-windows\\src\\learner.cc:740: \n",
      "Parameters: { \"silent\" } are not used.\n",
      "\n",
      "  warnings.warn(smsg, UserWarning)\n"
     ]
    },
    {
     "name": "stdout",
     "output_type": "stream",
     "text": [
      "[0]\tvalidation-rmse:36648.59809\n",
      "[1]\tvalidation-rmse:36148.12203\n"
     ]
    },
    {
     "name": "stderr",
     "output_type": "stream",
     "text": [
      "[I 2024-09-14 11:53:24,250] Trial 48 pruned. Trial was pruned at iteration 2.\n",
      "C:\\Users\\sachi\\AppData\\Local\\Temp\\ipykernel_140668\\2378620266.py:10: FutureWarning: suggest_loguniform has been deprecated in v3.0.0. This feature will be removed in v6.0.0. See https://github.com/optuna/optuna/releases/tag/v3.0.0. Use suggest_float(..., log=True) instead.\n",
      "  \"lambda\": trial.suggest_loguniform(\"lambda\", 1e-8, 1.0),\n",
      "C:\\Users\\sachi\\AppData\\Local\\Temp\\ipykernel_140668\\2378620266.py:11: FutureWarning: suggest_loguniform has been deprecated in v3.0.0. This feature will be removed in v6.0.0. See https://github.com/optuna/optuna/releases/tag/v3.0.0. Use suggest_float(..., log=True) instead.\n",
      "  \"alpha\": trial.suggest_loguniform(\"alpha\", 1e-8, 1.0),\n",
      "C:\\Users\\sachi\\AppData\\Local\\Temp\\ipykernel_140668\\2378620266.py:16: FutureWarning: suggest_loguniform has been deprecated in v3.0.0. This feature will be removed in v6.0.0. See https://github.com/optuna/optuna/releases/tag/v3.0.0. Use suggest_float(..., log=True) instead.\n",
      "  param[\"eta\"] = trial.suggest_loguniform(\"eta\", 1e-8, 1.0)\n",
      "C:\\Users\\sachi\\AppData\\Local\\Temp\\ipykernel_140668\\2378620266.py:17: FutureWarning: suggest_loguniform has been deprecated in v3.0.0. This feature will be removed in v6.0.0. See https://github.com/optuna/optuna/releases/tag/v3.0.0. Use suggest_float(..., log=True) instead.\n",
      "  param[\"gamma\"] = trial.suggest_loguniform(\"gamma\", 1e-8, 1.0)\n",
      "C:\\Users\\sachi\\AppData\\Local\\Temp\\ipykernel_140668\\2378620266.py:22: FutureWarning: suggest_loguniform has been deprecated in v3.0.0. This feature will be removed in v6.0.0. See https://github.com/optuna/optuna/releases/tag/v3.0.0. Use suggest_float(..., log=True) instead.\n",
      "  param[\"rate_drop\"] = trial.suggest_loguniform(\"rate_drop\", 1e-8, 1.0)\n",
      "C:\\Users\\sachi\\AppData\\Local\\Temp\\ipykernel_140668\\2378620266.py:23: FutureWarning: suggest_loguniform has been deprecated in v3.0.0. This feature will be removed in v6.0.0. See https://github.com/optuna/optuna/releases/tag/v3.0.0. Use suggest_float(..., log=True) instead.\n",
      "  param[\"skip_drop\"] = trial.suggest_loguniform(\"skip_drop\", 1e-8, 1.0)\n",
      "c:\\Projects\\Used Car Price prediction\\venv1\\lib\\site-packages\\xgboost\\core.py:158: UserWarning: [11:53:40] WARNING: C:\\buildkite-agent\\builds\\buildkite-windows-cpu-autoscaling-group-i-0015a694724fa8361-1\\xgboost\\xgboost-ci-windows\\src\\learner.cc:740: \n",
      "Parameters: { \"silent\" } are not used.\n",
      "\n",
      "  warnings.warn(smsg, UserWarning)\n",
      "[I 2024-09-14 11:53:42,188] Trial 49 pruned. Trial was pruned at iteration 0.\n"
     ]
    },
    {
     "name": "stdout",
     "output_type": "stream",
     "text": [
      "FrozenTrial(number=26, state=TrialState.COMPLETE, values=[1269644291.0420272], datetime_start=datetime.datetime(2024, 9, 14, 11, 46, 54, 946308), datetime_complete=datetime.datetime(2024, 9, 14, 11, 47, 13, 533939), params={'booster': 'gblinear', 'lambda': 7.472905026895364e-05, 'alpha': 5.407168877856771e-08}, user_attrs={}, system_attrs={}, intermediate_values={0: 36817.877827437376, 1: 36159.20403209061, 2: 35966.97977036593, 3: 35864.66448189992, 4: 35795.06945776622, 5: 35744.562499634616, 6: 35706.004101421786, 7: 35676.73324647713, 8: 35652.02879977011, 9: 35632.068277676604}, distributions={'booster': CategoricalDistribution(choices=('gbtree', 'gblinear', 'dart')), 'lambda': FloatDistribution(high=1.0, log=True, low=1e-08, step=None), 'alpha': FloatDistribution(high=1.0, log=True, low=1e-08, step=None)}, trial_id=26, value=None)\n"
     ]
    }
   ],
   "source": [
    "study = optuna.create_study(direction='minimize')\n",
    "study.optimize(objective(x=1,y=1), n_trials=50)\n",
    "print(study.best_trial)"
   ]
  },
  {
   "cell_type": "code",
   "execution_count": 15,
   "metadata": {},
   "outputs": [
    {
     "name": "stdout",
     "output_type": "stream",
     "text": [
      "Best hyperparameters: {'booster': 'gblinear', 'lambda': 7.472905026895364e-05, 'alpha': 5.407168877856771e-08}\n"
     ]
    }
   ],
   "source": [
    "best_params = study.best_params\n",
    "print(f\"Best hyperparameters: {best_params}\")"
   ]
  },
  {
   "cell_type": "code",
   "execution_count": 19,
   "metadata": {},
   "outputs": [
    {
     "name": "stderr",
     "output_type": "stream",
     "text": [
      "c:\\Projects\\Used Car Price prediction\\venv1\\lib\\site-packages\\xgboost\\core.py:158: UserWarning: [11:58:45] WARNING: C:\\buildkite-agent\\builds\\buildkite-windows-cpu-autoscaling-group-i-0015a694724fa8361-1\\xgboost\\xgboost-ci-windows\\src\\learner.cc:740: \n",
      "Parameters: { \"metric\" } are not used.\n",
      "\n",
      "  warnings.warn(smsg, UserWarning)\n"
     ]
    }
   ],
   "source": [
    "best_params['objective'] = 'reg:squarederror'\n",
    "best_params['metric'] = 'rmse'\n",
    "# best_params['device'] = 'gpu'  # Use GPU if available\n",
    "\n",
    "dtrain = xgb.DMatrix(X, label=y)\n",
    "\n",
    "model = xgb.train(best_params, dtrain, num_boost_round=1500)"
   ]
  },
  {
   "cell_type": "code",
   "execution_count": 24,
   "metadata": {},
   "outputs": [
    {
     "name": "stderr",
     "output_type": "stream",
     "text": [
      "c:\\Projects\\Used Car Price prediction\\venv1\\lib\\site-packages\\xgboost\\core.py:158: UserWarning: [13:08:15] WARNING: C:\\buildkite-agent\\builds\\buildkite-windows-cpu-autoscaling-group-i-0015a694724fa8361-1\\xgboost\\xgboost-ci-windows\\src\\c_api\\c_api.cc:1374: Saving model in the UBJSON format as default.  You can use file extension: `json`, `ubj` or `deprecated` to choose between formats.\n",
      "  warnings.warn(smsg, UserWarning)\n"
     ]
    }
   ],
   "source": [
    "model.save_model('xgb1')"
   ]
  },
  {
   "cell_type": "code",
   "execution_count": 27,
   "metadata": {},
   "outputs": [],
   "source": [
    "import pickle\n",
    "file_name = \"xgb_reg.pkl\"\n",
    "\n",
    "# save\n",
    "pickle.dump(model, open(file_name, \"wb\"))\n",
    "\n",
    "# load\n",
    "xgb_model_loaded = pickle.load(open(file_name, \"rb\"))"
   ]
  },
  {
   "cell_type": "code",
   "execution_count": 29,
   "metadata": {},
   "outputs": [
    {
     "data": {
      "text/plain": [
       "array([34278.8  , 16399.418, 35876.33 , ..., 75150.47 , 21940.137,\n",
       "       47929.348], dtype=float32)"
      ]
     },
     "execution_count": 29,
     "metadata": {},
     "output_type": "execute_result"
    }
   ],
   "source": [
    "xgb_model_loaded.predict(xgb.DMatrix(xval_transformed))"
   ]
  },
  {
   "cell_type": "code",
   "execution_count": 23,
   "metadata": {},
   "outputs": [
    {
     "name": "stdout",
     "output_type": "stream",
     "text": [
      "Submission file created: submission_xgb1.csv\n"
     ]
    }
   ],
   "source": [
    "pred = model.predict(xgb.DMatrix(test))\n",
    "\n",
    "submission_df = pd.DataFrame({\n",
    "    'id': old_test['id'],\n",
    "    'class': pred\n",
    "})\n",
    "\n",
    "submission_df.to_csv('submission_xgb1.csv', index=False)\n",
    "print(\"Submission file created: submission_xgb1.csv\")\n"
   ]
  }
 ],
 "metadata": {
  "kernelspec": {
   "display_name": "Python 3",
   "language": "python",
   "name": "python3"
  },
  "language_info": {
   "codemirror_mode": {
    "name": "ipython",
    "version": 3
   },
   "file_extension": ".py",
   "mimetype": "text/x-python",
   "name": "python",
   "nbconvert_exporter": "python",
   "pygments_lexer": "ipython3",
   "version": "3.11.8"
  }
 },
 "nbformat": 4,
 "nbformat_minor": 2
}
